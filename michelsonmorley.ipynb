{
 "cells": [
  {
   "cell_type": "code",
   "execution_count": null,
   "metadata": {},
   "outputs": [],
   "source": [
    "from General import functies as functies\n",
    "from General import classes as classes\n",
    "import sympy as sp\n",
    "import numpy as np\n",
    "import matplotlib.pyplot as plt"
   ]
  },
  {
   "cell_type": "code",
   "execution_count": null,
   "metadata": {},
   "outputs": [],
   "source": [
    "#metingen van de golflengte\n",
    "x, N, lamba = sp.symbols('x N lambda')\n",
    "begin =  np.array([10,10,0,10,20,5]) *10**(-6) #in m\n",
    "eind = np.array([20,20,10,20,30,15])*10**(-6)\n",
    "delta = eind-begin\n",
    "fouten_afstand = np.sqrt(2)*np.full(np.shape(delta), 0.5e-6)\n",
    "aantalstrepen = np.array([34,33,32,34,31,31])\n",
    "fouten_N = np.sqrt(aantalstrepen)\n",
    "vergelijking = classes.vergelijking(2*x/N, [x, N])\n",
    "lambdalijst = []\n",
    "for indx in range(len(fouten_afstand)):\n",
    "    xpunt = classes.datapunt(delta[indx], fouten_afstand[indx], x, 'U')\n",
    "    Npunt = classes.datapunt(aantalstrepen[indx], fouten_N[indx], N, 'Poisson')\n",
    "    lambdalijst.append(vergelijking.evaluate([xpunt, Npunt], None,lamba))\n",
    "golflengte = functies.mu_sigma(lambdalijst)\n",
    "display(golflengte)\n",
    "functies.latex_print_datapunt(golflengte)"
   ]
  },
  {
   "cell_type": "code",
   "execution_count": null,
   "metadata": {},
   "outputs": [],
   "source": [
    "#fitten van de luchtdruk\n",
    "def n_model(druk, params):\n",
    "    L = 38.4e-3\n",
    "    n_val = params[0]\n",
    "    lamba = golflengte.get_val()\n",
    "    omgevingsparameters = 273.15/(293*1013e2) # = T_0/p_0*1/T => 1013hPa\n",
    "    N = 2*L/lamba * (n_val-1)*omgevingsparameters*druk\n",
    "    N = np.array(N, dtype = 'float64')\n",
    "    return N\n",
    "\n",
    "def invals(x,y):\n",
    "    return [1.0002]\n",
    "druklijst = [10,20,30,40,50,60,70]\n",
    "drukmatrix = np.array(druklijst+ druklijst+ druklijst+ druklijst,dtype='float64')*10**3\n",
    "drukvar = np.full(np.shape(drukmatrix), (1e3)**2/12,dtype='float64')\n",
    "lijnen = np.array( [3, 5, 8, 11, 14, 18, 21]+[3, 6, 8, 11, 13, 16, 19]+ [3, 6, 9, 12, 15, 18, 21]+ [3, 6, 9, 12, 15, 18, 21],dtype='float64')\n",
    "lijnenfout = np.full(np.shape(lijnen),1)\n",
    "lijnenfout[0] = 1\n",
    "fitwaarden = functies.fit_2D(['n_0'], n_model, invals, drukmatrix, lijnen, drukvar, lijnenfout, \n",
    "                             x_as_titel='drukverschil (Pa)', y_as_titel='aantal verdwenen lijnen', titel = 'experiment bij O$_2$')"
   ]
  },
  {
   "cell_type": "code",
   "execution_count": null,
   "metadata": {},
   "outputs": [],
   "source": [
    "#fitten van de CO2-druk\n",
    "def n_model(druk, params):\n",
    "    L = 38.4e-3\n",
    "    n_val = params[0]\n",
    "    lamba = golflengte.get_val()\n",
    "    omgevingsparameters = 273.15/(293*1013e2) # = T_0/p_0*1/T => 1013hPa\n",
    "    N = 2*L/lamba * (n_val-1)*omgevingsparameters*druk\n",
    "    N = np.array(N, dtype = 'float64')\n",
    "    return N\n",
    "\n",
    "def invals(x,y):\n",
    "    return [1.0002]\n",
    "druklijst = [10,20,30,40,50,60,70]\n",
    "drukmatrix = np.array(druklijst+ druklijst[:-1]+ druklijst+ druklijst,dtype='float64')*10**3\n",
    "drukvar = np.full(np.shape(drukmatrix), (1e3)**2/12,dtype='float64')\n",
    "lijnen = np.array( [5, 9, 13, 18, 23, 27, 32]+[4, 8, 12, 16, 20, 24]+ [4, 9, 14, 19, 23, 28, 31]+ [5, 9, 14, 18, 23, 28, 33],dtype='float64')\n",
    "lijnenfout = np.full(np.shape(lijnen),1)\n",
    "lijnenfout[0] = 1\n",
    "fitwaarden = functies.fit_2D(['n_0'], n_model, invals, drukmatrix, lijnen, drukvar, lijnenfout, \n",
    "                             x_as_titel='drukverschil (Pa)', y_as_titel='aantal verdwenen lijnen', titel = 'experiment bij CO$_2$')"
   ]
  }
 ],
 "metadata": {
  "kernelspec": {
   "display_name": "base",
   "language": "python",
   "name": "python3"
  },
  "language_info": {
   "codemirror_mode": {
    "name": "ipython",
    "version": 3
   },
   "file_extension": ".py",
   "mimetype": "text/x-python",
   "name": "python",
   "nbconvert_exporter": "python",
   "pygments_lexer": "ipython3",
   "version": "3.11.5"
  }
 },
 "nbformat": 4,
 "nbformat_minor": 2
}
