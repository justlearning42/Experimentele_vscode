{
 "cells": [
  {
   "cell_type": "code",
   "execution_count": null,
   "metadata": {},
   "outputs": [],
   "source": [
    "from General import functies as functies\n",
    "from General import classes as classes\n",
    "import sympy as sp\n",
    "import numpy as np\n",
    "import matplotlib.pyplot as plt"
   ]
  },
  {
   "cell_type": "code",
   "execution_count": null,
   "metadata": {},
   "outputs": [],
   "source": [
    "#metingen van de golflengte\n",
    "x, N, lamba = sp.symbols('x N lambda')\n",
    "begin =  np.array([10,10,0,10,20,5]) *10**(-6) #in m\n",
    "eind = np.array([20,20,10,20,30,15])*10**(-6)\n",
    "delta = eind-begin\n",
    "fouten_afstand = np.sqrt(2)*np.full(np.shape(delta), 0.5e-6)\n",
    "aantalstrepen = np.array([34,33,32,34,31,31])\n",
    "fouten_N = np.sqrt(aantalstrepen)\n",
    "vergelijking = classes.vergelijking(2*x/N, [x, N])\n",
    "lambdalijst = []\n",
    "for indx in range(len(fouten_afstand)):\n",
    "    xpunt = classes.datapunt(delta[indx], fouten_afstand[indx], x, 'U')\n",
    "    Npunt = classes.datapunt(aantalstrepen[indx], fouten_N[indx], N, 'Poisson')\n",
    "    lambdalijst.append(vergelijking.evaluate([xpunt, Npunt], None,lamba))\n",
    "golflengte = functies.mu_sigma(lambdalijst)\n",
    "display(golflengte)\n",
    "functies.latex_print_datapunt(golflengte)"
   ]
  },
  {
   "cell_type": "code",
   "execution_count": null,
   "metadata": {},
   "outputs": [],
   "source": [
    "#fitten van de luchtdruk\n",
    "druklijst = np.array([0,10,20,30,40,50,60,70]) *10**3\n",
    "drukmatrix = np.array([druklijst, druklijst, druklijst, druklijst])\n",
    "lijnen = np.array([ [0, 3, 5, 8, 11, 14, 18, 21], \n",
    "                    [0, 3, 6, 8, 11, 13, 16, 19], \n",
    "                    [0, 3, 6, 9, 12, 15, 18, 21], \n",
    "                    [0, 3, 6, 9, 12, 15, 18, 21]])\n",
    "fitwaarden = functies.fit_2D()"
   ]
  }
 ],
 "metadata": {
  "kernelspec": {
   "display_name": "base",
   "language": "python",
   "name": "python3"
  },
  "language_info": {
   "codemirror_mode": {
    "name": "ipython",
    "version": 3
   },
   "file_extension": ".py",
   "mimetype": "text/x-python",
   "name": "python",
   "nbconvert_exporter": "python",
   "pygments_lexer": "ipython3",
   "version": "3.11.5"
  }
 },
 "nbformat": 4,
 "nbformat_minor": 2
}
