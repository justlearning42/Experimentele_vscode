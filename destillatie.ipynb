{
 "cells": [
  {
   "cell_type": "code",
   "execution_count": 1,
   "metadata": {},
   "outputs": [],
   "source": [
    "from General import functies as functies\n",
    "from General import classes as classes\n",
    "import sympy as sp\n",
    "import numpy as np\n",
    "import matplotlib.pyplot as plt"
   ]
  },
  {
   "cell_type": "code",
   "execution_count": 7,
   "metadata": {},
   "outputs": [
    {
     "name": "stdout",
     "output_type": "stream",
     "text": [
      "parameters destillaat:\n",
      "$rho = (824 \\pm 1)\\cdot 10^{-3}$\n",
      "$Vpercent = (94 \\pm 9)\\cdot 10^{-1}$\n",
      "$Valcohol = (208 \\pm 9)\\cdot 10^{-4}$\n",
      "parameters wijn:\n",
      "$Vpercent = (138 \\pm 6)\\cdot 10^{-1}$\n"
     ]
    }
   ],
   "source": [
    "#de destillatie\n",
    "\n",
    "#het destillaat\n",
    "V, m, rho, Vpercent, V_alcohol= sp.symbols('V m rho Vpercent Valcohol')\n",
    "massadichtheid_eq = classes.vergelijking(m/V, [m, V])\n",
    "volumepercent_eq = classes.vergelijking((rho-0.8041)/0.0021, [rho])\n",
    "volume_alcohol_eq = classes.vergelijking((1 - Vpercent/100)*V, [V, Vpercent])\n",
    "volumepercent_alcohol_wijn_eq = classes.vergelijking(V_alcohol/V*100, [V_alcohol, V])\n",
    "\n",
    "volume_sample = classes.datapunt(10e-3, 0.02e-3, V)\n",
    "massa_sample = classes.datapunt(8.24e-3, 0.01e-3, m) #fout = resolutie van de balans\n",
    "volume_destillaat = classes.datapunt(23e-3, 1e-3, V)\n",
    "volume_wijn = classes.datapunt(150e-3, 1e-3, V)\n",
    "\n",
    "massadichtheid_destillaat = massadichtheid_eq.evaluate([volume_sample, massa_sample], None, rho)\n",
    "volumepercent_destillaat = volumepercent_eq.evaluate([massadichtheid_destillaat], None, Vpercent)\n",
    "volume_alcohol_destillaat = volume_alcohol_eq.evaluate([volumepercent_destillaat, volume_destillaat], None, V_alcohol)\n",
    "volumepercent_alcohol_wijn = volumepercent_alcohol_wijn_eq.evaluate([volume_wijn, volume_alcohol_destillaat], None, Vpercent)\n",
    "print('parameters destillaat:')\n",
    "functies.latex_print_datapunt(massadichtheid_destillaat)\n",
    "functies.latex_print_datapunt(volumepercent_destillaat)\n",
    "functies.latex_print_datapunt(volume_alcohol_destillaat)\n",
    "print('parameters wijn:')\n",
    "functies.latex_print_datapunt(volumepercent_alcohol_wijn)"
   ]
  },
  {
   "cell_type": "code",
   "execution_count": 6,
   "metadata": {},
   "outputs": [
    {
     "name": "stdout",
     "output_type": "stream",
     "text": [
      "\n",
      "meting nr  1\n",
      "beginvolume: $V = (0 \\pm 5)\\cdot 10^{-2}$\n",
      "eindvolume: $V = (0 \\pm 5)\\cdot 10^{-2}$\n",
      "toegevoegd_volume: $V = (1 \\pm 7)\\cdot 10^{-2}$\n",
      "\n",
      "meting nr  2\n",
      "beginvolume: $V = (0 \\pm 5)\\cdot 10^{-2}$\n",
      "eindvolume: $V = (1 \\pm 5)\\cdot 10^{-2}$\n",
      "toegevoegd_volume: $V = (2 \\pm 7)\\cdot 10^{-2}$\n",
      "\n",
      "meting nr  3\n",
      "beginvolume: $V = (1 \\pm 5)\\cdot 10^{-2}$\n",
      "eindvolume: $V = (1 \\pm 5)\\cdot 10^{-2}$\n",
      "toegevoegd_volume: $V = (2 \\pm 7)\\cdot 10^{-2}$\n",
      "\n",
      "meting nr  4\n",
      "beginvolume: $V = (1 \\pm 5)\\cdot 10^{-2}$\n",
      "eindvolume: $V = (2 \\pm 5)\\cdot 10^{-2}$\n",
      "toegevoegd_volume: $V = (3 \\pm 7)\\cdot 10^{-2}$\n",
      "stofhoeveelheid SO3 (mol) in sample: $n = (1 \\pm 2)\\cdot 10^{-1}$\n",
      "\n",
      "massaconcentratie SO2 in de wijn (g/L) \n",
      "$Mc = (55 \\pm 77)\\cdot 10^{1}$\n"
     ]
    }
   ],
   "source": [
    "#de titratie\n",
    "n, c, Mc, Delta_V = sp.symbols(' n c Mc Delta_V')\n",
    "\n",
    "molaire_massa_SO2 = 32.07 + 2*15.999 #g\n",
    "toegevoegde_n_eq = classes.vergelijking(c/(Delta_V), [c, Delta_V])\n",
    "massaconcentratie_SO2_wijn_eq = classes.vergelijking((n*molaire_massa_SO2)/V, [n, V])\n",
    "\n",
    "meetstanden_buret = [(2.55, 7.80), (7.80, 12.20), (12.20, 16.80),(16.80, 21.40)]\n",
    "concentratiekamp_diejood = classes.datapunt(0.0050,0.0001, c) #de concentratie I_2 in de buret\n",
    "volume_wijn = classes.datapunt(20e-3, 0.02e-3,  V)\n",
    "\n",
    "\n",
    "toegevoegde_V = []\n",
    "i = 1\n",
    "for meting in meetstanden_buret:\n",
    "    print('\\nmeting nr ', i)\n",
    "    i += 1\n",
    "    begin_V = classes.datapunt(meting[0]*10**(-3), 0.05, V)\n",
    "    eind_V = classes.datapunt(meting[1]*10**(-3), 0.05, V)\n",
    "    toegevoegde_V.append(eind_V - begin_V)\n",
    "    print('beginvolume', end = ': ')\n",
    "    functies.latex_print_datapunt(begin_V)\n",
    "    print('eindvolume', end = ': ')\n",
    "    functies.latex_print_datapunt(eind_V)\n",
    "    print('toegevoegd_volume', end = ': ')\n",
    "    functies.latex_print_datapunt(eind_V - begin_V)\n",
    "    \n",
    "toegevoegde_V_avg = functies.mu_sigma(toegevoegde_V[1:], Delta_V)\n",
    "stofhoeveelheid_SO3 = toegevoegde_n_eq.evaluate([concentratiekamp_diejood, toegevoegde_V_avg], None, n)\n",
    "print('stofhoeveelheid SO3 (mol) in sample', end = ': ')\n",
    "functies.latex_print_datapunt(stofhoeveelheid_SO3)\n",
    "massaconcentratie_SO2_wijn = massaconcentratie_SO2_wijn_eq.evaluate([volume_wijn, stofhoeveelheid_SO3], None, Mc)\n",
    "print('\\nmassaconcentratie SO2 in de wijn (g/L) ')\n",
    "functies.latex_print_datapunt(massaconcentratie_SO2_wijn)"
   ]
  }
 ],
 "metadata": {
  "kernelspec": {
   "display_name": "base",
   "language": "python",
   "name": "python3"
  },
  "language_info": {
   "codemirror_mode": {
    "name": "ipython",
    "version": 3
   },
   "file_extension": ".py",
   "mimetype": "text/x-python",
   "name": "python",
   "nbconvert_exporter": "python",
   "pygments_lexer": "ipython3",
   "version": "3.11.5"
  }
 },
 "nbformat": 4,
 "nbformat_minor": 2
}
