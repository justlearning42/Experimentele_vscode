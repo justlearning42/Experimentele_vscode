{
 "cells": [
  {
   "cell_type": "code",
   "execution_count": null,
   "metadata": {},
   "outputs": [],
   "source": [
    "from General import functies as functies\n",
    "from General import classes as classes\n",
    "import sympy as sp\n",
    "import numpy as np\n",
    "import matplotlib.pyplot as plt"
   ]
  },
  {
   "cell_type": "code",
   "execution_count": null,
   "metadata": {},
   "outputs": [],
   "source": [
    "#de destillatie\n",
    "\n",
    "#het destillaat\n",
    "V, m, rho, Vpercent, V_alcohol= sp.symbols('V m rho Vpercent Valcohol')\n",
    "massadichtheid_eq = classes.vergelijking(m/V, [m, V])\n",
    "volumepercent_eq = classes.vergelijking((rho-0.8041)/0.0021, [rho])\n",
    "volume_alcohol_eq = classes.vergelijking((1 - Vpercent/100)*V, [V, Vpercent])\n",
    "volumepercent_alcohol_wijn_eq = classes.vergelijking(V_alcohol/V*100, [V_alcohol, V])\n",
    "\n",
    "volume_sample = classes.datapunt(10e-3, 0.02e-3, V, \"U\")\n",
    "massa_sample = classes.datapunt(8.24e-3, 0.01e-3, m, \"U\") #fout = resolutie van de balans\n",
    "volume_destillaat = classes.datapunt(23e-3, 1e-3, V, \"U\")\n",
    "volume_wijn = classes.datapunt(150e-3, 1e-3, V, \"U\")\n",
    "\n",
    "massadichtheid_destillaat = massadichtheid_eq.evaluate([volume_sample, massa_sample], None, rho)\n",
    "volumepercent_destillaat = volumepercent_eq.evaluate([massadichtheid_destillaat], None, Vpercent)\n",
    "volume_alcohol_destillaat = volume_alcohol_eq.evaluate([volumepercent_destillaat, volume_destillaat], None, V_alcohol)\n",
    "volumepercent_alcohol_wijn = volumepercent_alcohol_wijn_eq.evaluate([volume_wijn, volume_alcohol_destillaat], None, Vpercent)\n",
    "print('parameters destillaat:')\n",
    "functies.latex_print_datapunt(massadichtheid_destillaat)\n",
    "functies.latex_print_datapunt(volumepercent_destillaat)\n",
    "functies.latex_print_datapunt(volume_alcohol_destillaat)\n",
    "print('parameters wijn:')\n",
    "functies.latex_print_datapunt(volumepercent_alcohol_wijn)"
   ]
  },
  {
   "cell_type": "code",
   "execution_count": null,
   "metadata": {},
   "outputs": [],
   "source": [
    "#de titratie\n",
    "n, c, Mc, Delta_V, M = sp.symbols(' n c Mc Delta_V M')\n",
    "\n",
    "M_S = classes.datapunt(32.06, 0.02, M) #molaire massa zwavel\n",
    "M_O = classes.datapunt(15.999, 0.001, M) #molaire massa zuurstof\n",
    "molaire_massa_SO2 = M_S + M_O*2 #g/mol\n",
    "print('molaire massa SO2', end = ': ')\n",
    "functies.latex_print_datapunt(molaire_massa_SO2)\n",
    "toegevoegde_n_eq = classes.vergelijking(c/(Delta_V), [c, Delta_V])\n",
    "massaconcentratie_SO2_wijn_eq = classes.vergelijking((n*M)/V, [n, V, M])\n",
    "\n",
    "meetstanden_buret = [(2.55e-3, 7.80e-3), (7.80e-3, 12.20e-3), (12.20e-3, 16.80e-3),(16.80e-3, 21.40e-3)] #ml\n",
    "concentratiekamp_diejood = classes.datapunt(0.0050,0.0001, c) #de concentratie in mol/l I_2 in de buret\n",
    "volume_wijn = classes.datapunt(20e-3, 0.02e-3,  V)\n",
    "\n",
    "\n",
    "toegevoegde_V = []\n",
    "i = 1\n",
    "for meting in meetstanden_buret:\n",
    "    print('\\nmeting nr ', i)\n",
    "    i += 1\n",
    "    begin_V = classes.datapunt(meting[0], 0.05e-3, V, \"U\") #l\n",
    "    eind_V = classes.datapunt(meting[1], 0.05e-3, V, \"U\")\n",
    "    toegevoegde_V.append(eind_V - begin_V)\n",
    "    print('beginvolume', end = ': ')\n",
    "    functies.latex_print_datapunt(begin_V)\n",
    "    print('eindvolume', end = ': ')\n",
    "    functies.latex_print_datapunt(eind_V)\n",
    "    print('toegevoegd_volume', end = ': ')\n",
    "    functies.latex_print_datapunt(eind_V - begin_V)\n",
    "\n",
    "toegevoegde_V_avg = functies.mu_sigma(toegevoegde_V[1:], Delta_V)\n",
    "print('\\ngemiddeld toegevoegd volume', end = ': ')\n",
    "functies.latex_print_datapunt(toegevoegde_V_avg)\n",
    "stofhoeveelheid_SO3 = toegevoegde_n_eq.evaluate([concentratiekamp_diejood, toegevoegde_V_avg], None, n)\n",
    "print('stofhoeveelheid SO3 (mol) in sample', end = ': ')\n",
    "functies.latex_print_datapunt(stofhoeveelheid_SO3)\n",
    "massaconcentratie_SO2_wijn = massaconcentratie_SO2_wijn_eq.evaluate([volume_wijn, stofhoeveelheid_SO3, molaire_massa_SO2], None, Mc)\n",
    "print('massaconcentratie SO2 in de wijn (g/L)', end = ': ')\n",
    "functies.latex_print_datapunt(massaconcentratie_SO2_wijn)"
   ]
  }
 ],
 "metadata": {
  "kernelspec": {
   "display_name": "base",
   "language": "python",
   "name": "python3"
  },
  "language_info": {
   "codemirror_mode": {
    "name": "ipython",
    "version": 3
   },
   "file_extension": ".py",
   "mimetype": "text/x-python",
   "name": "python",
   "nbconvert_exporter": "python",
   "pygments_lexer": "ipython3",
   "version": "3.11.5"
  }
 },
 "nbformat": 4,
 "nbformat_minor": 2
}
