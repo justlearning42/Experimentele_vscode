{
 "cells": [
  {
   "cell_type": "code",
   "execution_count": 1,
   "id": "4db628ca",
   "metadata": {},
   "outputs": [],
   "source": [
    "from General import functies as functies\n",
    "from General import classes as classes\n",
    "import sympy as sp\n",
    "import numpy as np\n",
    "import matplotlib.pyplot as plt\n",
    "from os import listdir\n",
    "from os.path import isfile, join"
   ]
  },
  {
   "cell_type": "code",
   "execution_count": 2,
   "id": "500f1752",
   "metadata": {},
   "outputs": [],
   "source": [
    "#das 1D-Model\n",
    "fitparameters = ['phi', 'A', 'C_0', 'omega', 'q']\n",
    "fitparamdict = {'m1-1': [[-1.0689273830609691, -0.00035, 'S'], [0.11915482565570268, 3.2e-05, 'S'], [-486.28625801149684, -0.048, 'S'], [3.8141064794778394, (2.0, 6.1e-05), 'S'], [7.295393360058406e-09, 9.6e-13, 'S']], 'm1-2': [[3.085462516345724, 0.00058, 'S'], [0.08841055376867005, 4.4e-05, 'S'], [-504.6090451372339, -0.049, 'S'], [3.8175666008290845, (-0.0001, 0.77), 'S'], [6.5396664925246684e-09, 1e-12, 'S']], 'm1-3': [[-3.1937632911730818, -0.00062, 'S'], [0.0832399144484069, 4.5e-05, 'S'], [-434.81698875095157, -0.048, 'S'], [3.815809999380435, 0.79, 'S'], [6.524645471849267e-09, 1e-12, 'S']], 'm2-1': [[0.07609489573295163, 0.00051, 'S'], [0.12501601311761756, 4.8e-05, 'S'], [-213.94998816331463, -0.053, 'S'], [3.8070174550564078, 4.0, 'S'], [5.161871400177434e-09, 1e-12, 'S']], 'm2-2': [[0.9929838995696354, (0.00064, 0.00028), 'S'], [0.13510201665457458, (3.7e-06, 0.00046), 'S'], [-192.71809076348626, (-0.34, -0.0081), 'S'], [3.810282238815174, 3.3, 'S'], [5.6039150218628595e-09, (1e-13, 9.6e-12), 'S']], 'm2-3': [[-2.385402254415131, -0.0014, 'S'], [0.048854385287558505, 6.2e-05, 'S'], [-214.4837731890344, -0.048, 'S'], [3.816369997420442, (1.9, 0.00023), 'S'], [5.435208115207682e-09, 1.1e-12, 'S']], 'm3-1': [[-4.246894101151776, (-0.0033, -0.00072), 'S'], [0.09990616094496357, (5.4e-05, 0.00028), 'S'], [-224.9582913702644, (-0.067, -0.035), 'S'], [3.816288543054232, (-42.0, 2.0), 'S'], [2.1444540463113097e-09, (5.8e-13, 1.8e-12), 'S']], 'm3-2': [[2.2617459219758542, 0.0015, 'S'], [0.1152323509474002, 0.00013, 'S'], [-246.36914812581136, -0.068, 'S'], [3.8131575915834075, (4.1, 2.0), 'S'], [2.591361856751063e-09, 1.4e-12, 'S']], 'm3-3': [[-1.2091115539111228, -0.0018, 'S'], [0.08225185052424794, 0.00013, 'S'], [-220.32135459371273, -0.048, 'S'], [3.8134900558853992, (2.0, 3.9), 'S'], [2.2412612749045444e-09, 1e-12, 'S']], 'm5-1': [[-1.794812888595295, (-0.011, -2.6e-05), 'S'], [0.06982903307669214, (3.8e-06, 0.00027), 'S'], [-278.4189062996526, (-0.0097, -0.24), 'S'], [3.8156146084563867, 4.0, 'S'], [9.540852303932592e-09, (2.8e-12, 4.2e-13), 'S']], 'm5-2': [[0.2903010793019834, 0.00084, 'S'], [0.08780959112166975, 6.3e-05, 'S'], [74.97693225445607, 0.048, 'S'], [3.812334945422661, (2.8, 0.77), 'S'], [4.559498905172977e-09, 1e-12, 'S']], 'm6-1': [[-4.185429463545462, -0.00056, 'S'], [0.09997635223219647, 4.4e-05, 'S'], [83.09350698893203, 0.054, 'S'], [3.8107772291935476, (-11.0, 3.3), 'S'], [6.085533609110799e-09, 1.1e-12, 'S']], 'm6-2': [[-2.206087284941422, -0.00043, 'S'], [0.12711786124331836, 3.9e-05, 'S'], [107.53125955928627, 0.053, 'S'], [4.476646377753726, (2.2, 4.4), 'S'], [5.543990658271674e-09, 9.6e-13, 'S']], 'm6-3': [[-0.3892079281454425, -0.00062, 'S'], [0.10506392756272154, 5.1e-05, 'S'], [90.69101611471169, 0.063, 'S'], [5.079698843418701, (2.7, -0.00018), 'S'], [6.0382167220000244e-09, 1.2e-12, 'S']]}\n",
    "experimenten = fitparamdict.keys()"
   ]
  },
  {
   "cell_type": "code",
   "execution_count": 3,
   "id": "b46aabf5",
   "metadata": {},
   "outputs": [
    {
     "name": "stdout",
     "output_type": "stream",
     "text": [
      "datapunt: omega = [3.85533868338910, 0.168627335353930, 'Normaal']\n"
     ]
    },
    {
     "data": {
      "text/plain": [
       "0.0"
      ]
     },
     "execution_count": 3,
     "metadata": {},
     "output_type": "execute_result"
    }
   ],
   "source": [
    "#testen of de frequentie wel klopt\n",
    "L, omega = sp.symbols('L omega')\n",
    "freqformule = classes.vergelijking(sp.sqrt(9.81/L), [L])\n",
    "#de eerste reeks proeven\n",
    "Kordelänge = classes.datapunt(0.66, 0.1, L, 'Uniform',)\n",
    "freq1 = freqformule.evaluate([Kordelänge], None, omega)\n",
    "print(freq1)\n",
    "functies.normaaltest(fitparamdict['m1-3'][4][0], fitparamdict['m1-2'][4])"
   ]
  },
  {
   "cell_type": "code",
   "execution_count": 4,
   "id": "5c9a5b1f",
   "metadata": {},
   "outputs": [
    {
     "name": "stdout",
     "output_type": "stream",
     "text": [
      "dict_keys(['m1-1', 'm1-2', 'm1-3', 'm2-1', 'm2-2', 'm2-3', 'm3-1', 'm3-2', 'm3-3', 'm5-1', 'm5-2', 'm6-1', 'm6-2', 'm6-3'])\n"
     ]
    },
    {
     "data": {
      "text/plain": [
       "<ErrorbarContainer object of 3 artists>"
      ]
     },
     "execution_count": 4,
     "metadata": {},
     "output_type": "execute_result"
    },
    {
     "data": {
      "image/png": "[encoded data removed]",
      "text/plain": [
       "<Figure size 640x480 with 1 Axes>"
      ]
     },
     "metadata": {},
     "output_type": "display_data"
    }
   ],
   "source": [
    "#eens de nulwaarden van het E-veld onderzoeken\n",
    "constantes = []\n",
    "errors = []\n",
    "for experiment in experimenten:\n",
    "    constantes.append(fitparamdict[experiment][2][0])\n",
    "    fout = fitparamdict[experiment][2][1]\n",
    "    if type(fout) == tuple:\n",
    "        fout = (fout[1] + fout[0])/2\n",
    "    errors.append(abs(fout))\n",
    "fig, ax = plt.subplots(1,1)\n",
    "print(experimenten)\n",
    "ax.errorbar(range(len(constantes)), constantes, yerr = errors, linestyle = '', marker = 'o')"
   ]
  }
 ],
 "metadata": {
  "kernelspec": {
   "display_name": "base",
   "language": "python",
   "name": "python3"
  },
  "language_info": {
   "codemirror_mode": {
    "name": "ipython",
    "version": 3
   },
   "file_extension": ".py",
   "mimetype": "text/x-python",
   "name": "python",
   "nbconvert_exporter": "python",
   "pygments_lexer": "ipython3",
   "version": "3.11.5"
  }
 },
 "nbformat": 4,
 "nbformat_minor": 5
}
