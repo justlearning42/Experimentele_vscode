{
 "cells": [
  {
   "cell_type": "code",
   "execution_count": 1,
   "id": "4db628ca",
   "metadata": {},
   "outputs": [],
   "source": [
    "from General import functies as functies\n",
    "from General import classes as classes\n",
    "import sympy as sp\n",
    "import numpy as np\n",
    "import matplotlib.pyplot as plt\n",
    "from os import listdir\n",
    "from os.path import isfile, join"
   ]
  },
  {
   "cell_type": "code",
   "execution_count": null,
   "id": "500f1752",
   "metadata": {},
   "outputs": [],
   "source": [
    "#das 1D-Model\n",
    "fitparameters = ['phi', 'A', 'C_0', 'omega', 'q', 'x0']\n",
    "m1_1 = [[-1.0686945285005693, -0.00039, 'S'], [0.13725009518954562, 4.1e-05, 'S'], [-490.00000097837574, (-0.075, -0.037), 'S'], [3.814057566792401, (2.0, 6.7e-05), 'S'], [9.999999999999997e-09, 1.4e-12, 'S'], [0.5351252008451629, 3.2e-05, 'S']]\n",
    "m1_2 = [[-3.1415926534767653, (-1.4e-05, -0.03), 'S'], [0.10966602343044365, 5.9e-05, 'S'], [-503.733492013773, -0.053, 'S'], [3.8089577290387946, (-0.00011, 0.77), 'S'], [9.99999999999917e-09, 1.8e-12, 'S'], [0.5697433856628596, 4.5e-05, 'S']]\n",
    "m1_3 = [[-3.1415926533722494, (-1.7e-05, -0.028), 'S'], [0.07918903573244261, 4.9e-05, 'S'], [-490.00000029600267, (-0.11, -0.026), 'S'], [3.8077917400056798, 0.79, 'S'], [9.999999999998172e-09, 1.5e-12, 'S'], [0.518458519538306, 3.6e-05, 'S']]\n",
    "\n",
    "\n",
    "# meting set 2\n",
    "m2_2 = [[1.0071060143841224, 0.00044, 'S'], [0.06660345939921775, 2.1e-05, 'S'], [-191.24281782359674, -0.056, 'S'], [3.808082494107852, (2.1, 3.3), 'S'], [1.331490666554091e-09, 2.5e-13, 'S'], [0.22508790124502898, 1.7e-05, 'S']]"
   ]
  }
 ],
 "metadata": {
  "kernelspec": {
   "display_name": "base",
   "language": "python",
   "name": "python3"
  },
  "language_info": {
   "codemirror_mode": {
    "name": "ipython",
    "version": 3
   },
   "file_extension": ".py",
   "mimetype": "text/x-python",
   "name": "python",
   "nbconvert_exporter": "python",
   "pygments_lexer": "ipython3",
   "version": "3.11.5"
  }
 },
 "nbformat": 4,
 "nbformat_minor": 5
}
