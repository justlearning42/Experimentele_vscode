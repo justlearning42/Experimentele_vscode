{
 "cells": [
  {
   "cell_type": "code",
   "execution_count": null,
   "id": "4ce96909",
   "metadata": {},
   "outputs": [],
   "source": [
    "from General import functies as functies\n",
    "from General import classes as classes\n",
    "import sympy as sp\n",
    "import numpy as np\n",
    "import matplotlib.pyplot as plt\n",
    "from os import listdir\n",
    "from os.path import isfile, join"
   ]
  },
  {
   "cell_type": "code",
   "execution_count": null,
   "id": "5afe70b2",
   "metadata": {},
   "outputs": [],
   "source": [
    "def V_r(spanning, params):\n",
    "    C_v = params[0]\n",
    "    return C_v*np.sqrt(spanning) #r = C_V sqrt(V)  =>V/r^2 = 1/C_V^2\n",
    "def invals(x,y):\n",
    "    return [0]\n",
    "\n",
    "#metingen met voltage:\n",
    "Vpercent = np.array([84, 80, 75, 70, 65, 60, 55, 50, 45, 40])/100\n",
    "V = Vpercent*300 #Volt\n",
    "toplijst = np.array([19.130, 19.215, 18.930, 18.770, 18.555, 18.530, 18.335, 18.160, 18.045, 17.900])/100 #m\n",
    "bottomlijst = np.array([11.225, 11.520, 11.480, 11.675, 11.685, 11.790, 11.970, 12.100, 12.305, 12.440])/100\n",
    "V_err = np.full(np.shape(V), 3) #1% * 300V\n",
    "\n",
    "straal_V = (toplijst - bottomlijst)/2\n",
    "straal_V_err = np.full(np.shape(straal_V), 0.08/100) #sqrt(2)*0.01/2\n",
    "\n",
    "\n",
    "C_Vsymb = sp.symbols('C_V')\n",
    "C_V = functies.vector_to_datapunt(functies.fit_2D(['C_V'], V_r, invals, V, straal_V, x_variance = V_err**2/3, y_variance = straal_V_err**2/3, x_as_titel= 'Spanning [V]', y_as_titel='Straal van baan [m]', titel = 'Straal-spanning fit')[0], C_Vsymb)"
   ]
  },
  {
   "cell_type": "code",
   "execution_count": null,
   "id": "a3f18942",
   "metadata": {},
   "outputs": [],
   "source": [
    "def I_r(stroom, params):\n",
    "    C = params[0]\n",
    "    return C/stroom\n",
    "def invals(x,y):\n",
    "    return [0]\n",
    "\n",
    "#metingen met voltage:\n",
    "Ipercent = np.array([85, 80, 75, 70, 65, 60, 55, 50, 45, 40])/100\n",
    "stroom = Ipercent*3 #Ampere\n",
    "toplijst = np.array([17.705, 17.925, 18.130, 18.305, 18.685, 18.945, 19.465, 19.950, 20.430, 21.055])/100 #m\n",
    "bottomlijst = np.array([12.355, 12.175, 11.915, 11.765, 11.430, 11.245, 11.425, 11.535, 11.050, 10.695])/100\n",
    "I_err = np.full(np.shape(stroom), 3/100) #1% * 300V\n",
    "\n",
    "straal_I = (toplijst - bottomlijst)/2\n",
    "straal_I_err = np.full(np.shape(straal_I), 0.08/100) #sqrt(2)*0.01/2\n",
    "\n",
    "functies.fit_2D(['C_I'], I_r, invals, stroom, straal_I, x_variance = I_err**2/3, y_variance = straal_I_err**2/3, x_as_titel= 'Stroom [A]', y_as_titel='Straal van baan [m]', titel = 'Straal-stroom fit')"
   ]
  },
  {
   "cell_type": "code",
   "execution_count": null,
   "id": "fd969dea",
   "metadata": {},
   "outputs": [],
   "source": [
    "print(C_V)\n",
    "Bsymb = sp.symbols('B')\n",
    "I = classes.datapunt(1.75, 0.03, Bsymb, 'Uniform') #ampere\n",
    "mu_0 = 4e-7*np.pi\n",
    "r = 150e-3\n",
    "N = 130\n",
    "B = I*r**2 * (1/(2*(r**2+(r/2)**2)**1.5)) * (2* N) * mu_0 #x = r/2\n",
    "print(B)\n",
    "emratio = B**(-2) * 2 * C_V**(-2)\n",
    "print(emratio)\n"
   ]
  },
  {
   "cell_type": "code",
   "execution_count": null,
   "id": "87527fc1",
   "metadata": {},
   "outputs": [],
   "source": [
    "functies.latex_print_datapunt(emratio)\n",
    "print('p-waarde van overeenkomst')\n",
    "functies.normaaltest(1.758820e11, functies.datapunt_to_vector(emratio))\n"
   ]
  }
 ],
 "metadata": {
  "kernelspec": {
   "display_name": "base",
   "language": "python",
   "name": "python3"
  },
  "language_info": {
   "codemirror_mode": {
    "name": "ipython",
    "version": 3
   },
   "file_extension": ".py",
   "mimetype": "text/x-python",
   "name": "python",
   "nbconvert_exporter": "python",
   "pygments_lexer": "ipython3",
   "version": "3.11.5"
  }
 },
 "nbformat": 4,
 "nbformat_minor": 5
}
