{
 "cells": [
  {
   "cell_type": "code",
   "execution_count": 35,
   "metadata": {},
   "outputs": [],
   "source": [
    "import classes\n",
    "import functies\n",
    "import sympy as sp\n",
    "import numpy as np\n",
    "from matplotlib import pyplot as plt"
   ]
  },
  {
   "cell_type": "code",
   "execution_count": 36,
   "metadata": {},
   "outputs": [],
   "source": [
    "#puntje 2: definiëren van de functies\n",
    "k, omega, p_0, p_0_x, phi, x, t = sp.symbols('k omega p_0 p_0_x phi x t')\n",
    "\n",
    "#max amplitude in functie van x \n",
    "drukamplitude_vergelijking = classes.vergelijking(p_0 * sp.sin(k*x + phi))\n",
    "drukamplitude_parameters = ['k', 'p_0', 'phi']\n",
    "\n",
    "def drukamplitude_model(X, parameters):\n",
    "    K, P_0, PHI = parameters\n",
    "    return P_0 * np.sin(K*X + PHI)\n",
    "\n",
    "#amplitude in functie van tijd voor vaste x \n",
    "druktijd_vergelijking = classes.vergelijking(p_0*sp.cos(omega*t+phi)) #merk op dat dit niet per sé dezelfde phi is als voor x, maar is irrelevant voor de fitcode\n",
    "druktijd_parameters = ['omega', 'p_0_x', 'phi']\n",
    "\n",
    "def druktijd_model(T, parameters):\n",
    "    omega, p_0, phi = parameters\n",
    "    return p_0*np.cos(omega*T+phi)\n"
   ]
  },
  {
   "cell_type": "code",
   "execution_count": 37,
   "metadata": {},
   "outputs": [],
   "source": [
    "###sjoemeliere sjoemelare om de txt files met de data om te zetten in effectieve nuttige dataverwerkingen\n",
    "#blah blah...\n",
    "\n",
    "###TEST_DATA:\n",
    "\n",
    "X = [0,150,300] #een vector met de x-coordinaten van de metingen\n",
    "T = [ np.linspace(0,10), #een matrix met de tijden voor elke meting op elke x-coordinaat\n",
    "      np.linspace(1,11),\n",
    "      np.linspace(7, 27)\n",
    "]\n",
    "\n",
    "P = [ 0.5*np.sin(np.linspace(0,10)+3)+np.random.normal(0,1), #een matrix met coordinaten P[x_coordinaat][tijd] #random normale fouten ingevoegd voor de test\n",
    "          np.sin(np.linspace(0,10)+np.random.normal(0,1)), \n",
    "      0.5*np.sin(np.linspace(0,10)-1)+np.random.normal(0,1)\n",
    "]\n",
    "P_fout = np.full(np.shape(P), 1) #een matrix van dezelfde vorm als P met de fouten in\n",
    "\n",
    "\n",
    "\n",
    "xval = 0\n",
    "def invals_amplitude(x,y):\n",
    "    phiwaardes = [3,0,-1]\n",
    "    return [1,1,phiwaardes[xval]] #op deze manier kunnen we handmatig de fasehoek vastleggen en zo de tekenfout bij P_0 voorkomen\n",
    "\n",
    "def invals_vastex(x,y):\n",
    "    return [0,0,0]"
   ]
  },
  {
   "cell_type": "code",
   "execution_count": 38,
   "metadata": {},
   "outputs": [],
   "source": [
    "###vind de drukamplitude voor een vaste x-coordinaat\n",
    "def fit_vaste_x(X, T, P, P_fout):\n",
    "    \"\"\"\n",
    "    @IN:\n",
    "    matrices X, T P en P_fout als gedefinieerd in vorige opgave\n",
    "    @OUT:\n",
    "    een lijst met maximale amplitude, in de volgorde van de x-coordinaat waarin ze voorkomen, en de pulsatie in datapuntvorm\n",
    "    \"\"\"\n",
    "    P_0_x = []\n",
    "    omega_x = []\n",
    "    for xval in range(len(X)):\n",
    "        druk = P[xval]\n",
    "        drukfout = P_fout[xval]\n",
    "        tijd = T[xval]\n",
    "        tijdfit = functies.fit(druktijd_parameters, druktijd_model, invals_amplitude, tijd, druk, drukfout)\n",
    "        omega_x.append(functies.vector_to_datapunt(tijdfit[0].copy(), omega))\n",
    "        omega_x = functies.mu_sigma(omega_x, omega)\n",
    "        P_0_x.append(tijdfit[1].copy())\n",
    "\n",
    "    return P_0_x, omega_x\n",
    "\n",
    "#fix de drukamplitude naar de x-coordinaat\n",
    "def fit_naar_x(X, P_0_x, P_0_x_ERR):\n",
    "    fitwaardes = functies.fit(drukamplitude_parameters, drukamplitude_model, invals_vastex, X, P_0_x, P_0_x_ERR)\n",
    "    K = functies.vector_to_datapunt(fitwaardes[0], k)\n",
    "    P_0 = functies.vector_to_datapunt(fitwaardes[1], p_0)\n",
    "    PHI = functies.vector_to_datapunt(fitwaardes[2], phi)\n",
    "    return K, P_0, PHI\n",
    "\n",
    "#voor de experimenten met vaste frequentie:\n",
    "def fix_data(X, T, P, P_fout):\n",
    "    P_0_x_lijst, omega_x = fit_vaste_x(X, T, P, P_fout)\n",
    "    P_0_x = [P_0_x_elem[0] for P_0_x_elem in P_0_x_lijst]\n",
    "    P_0_x_ERR = [P_0_x_elem[1] for P_0_x_elem in P_0_x_lijst]\n",
    "    K, P_0, PHI = fit_naar_x(X, P_0_x, P_0_x_ERR)\n",
    "\n",
    "    x_fit = np.linspace(0,300)\n",
    "    druk_fit = P_0.get_val()*np.sin(K.get_val()*x_fit+PHI.get_val())\n",
    "    #plot het boeltje\n",
    "    fig, ax = plt.subplots(1,1)\n",
    "    ax.errorbar(X, P_0_x, yerr = P_0_x_ERR, label = 'gemeten')\n",
    "\n",
    "    ax.plot(x_fit, druk_fit, label = 'model')\n",
    "\n",
    "    ax.set_ylabel('P_0 [EENHEID]')\n",
    "    ax.set_xlabel('x (mm)')\n",
    "    ax.legend(\"drukamplitude in functie van positie\")\n",
    "    ax.legend()\n",
    "    plt.tight_layout()\n",
    "    plt.show()"
   ]
  },
  {
   "cell_type": "code",
   "execution_count": 39,
   "metadata": {},
   "outputs": [
    {
     "name": "stdout",
     "output_type": "stream",
     "text": [
      "Raw output\n",
      "       message: Optimization terminated successfully.\n",
      "       success: True\n",
      "        status: 0\n",
      "           fun: 86.9854966554489\n",
      "             x: [ 8.709e-01  1.532e-01  4.575e+00]\n",
      "           nit: 76\n",
      "          nfev: 143\n",
      " final_simplex: (array([[ 8.709e-01,  1.532e-01,  4.575e+00],\n",
      "                       [ 8.709e-01,  1.531e-01,  4.575e+00],\n",
      "                       [ 8.709e-01,  1.531e-01,  4.576e+00],\n",
      "                       [ 8.709e-01,  1.532e-01,  4.575e+00]]), array([ 8.699e+01,  8.699e+01,  8.699e+01,  8.699e+01]))\n",
      "[[1.1698609496876702, 1.1698964935074705], [-0.21551315703983837, 0.5218051582372375], [1.5211440536154188, 7.8045196845239015]]\n",
      "omega heeft als waarde: 0.87087 + 0.29902 - -0.29899 met 68% betrouwbaarheidsinterval: [1.1699, 1.1699] \n",
      "p_0_x heeft als waarde: 0.15315 + 0.36865 - 0.36866 met 68% betrouwbaarheidsinterval: [-0.21551, 0.52181] \n",
      "phi heeft als waarde: 4.5755 + 3.2291 - 3.0543 met 68% betrouwbaarheidsinterval: [1.5211, 7.8045] \n",
      "De p-waarde voor de hypothese test dat het model zinvol is, wordt gegeven door: 0.00035015\n",
      "De gereduceerde chi^2 waarde is: 1.8508\n"
     ]
    },
    {
     "ename": "TypeError",
     "evalue": "unsupported operand type(s) for ** or pow(): 'tuple' and 'int'",
     "output_type": "error",
     "traceback": [
      "\u001b[1;31m---------------------------------------------------------------------------\u001b[0m",
      "\u001b[1;31mTypeError\u001b[0m                                 Traceback (most recent call last)",
      "Cell \u001b[1;32mIn[39], line 2\u001b[0m\n\u001b[0;32m      1\u001b[0m \u001b[38;5;66;03m#### Hier volgt de effectieve data-analyse\u001b[39;00m\n\u001b[1;32m----> 2\u001b[0m fix_data(X, T, P, P_fout)\n",
      "Cell \u001b[1;32mIn[38], line 32\u001b[0m, in \u001b[0;36mfix_data\u001b[1;34m(X, T, P, P_fout)\u001b[0m\n\u001b[0;32m     31\u001b[0m \u001b[38;5;28;01mdef\u001b[39;00m \u001b[38;5;21mfix_data\u001b[39m(X, T, P, P_fout):\n\u001b[1;32m---> 32\u001b[0m     P_0_x_lijst, omega_x \u001b[38;5;241m=\u001b[39m fit_vaste_x(X, T, P, P_fout)\n\u001b[0;32m     33\u001b[0m     P_0_x \u001b[38;5;241m=\u001b[39m [P_0_x_elem[\u001b[38;5;241m0\u001b[39m] \u001b[38;5;28;01mfor\u001b[39;00m P_0_x_elem \u001b[38;5;129;01min\u001b[39;00m P_0_x_lijst]\n\u001b[0;32m     34\u001b[0m     P_0_x_ERR \u001b[38;5;241m=\u001b[39m [P_0_x_elem[\u001b[38;5;241m1\u001b[39m] \u001b[38;5;28;01mfor\u001b[39;00m P_0_x_elem \u001b[38;5;129;01min\u001b[39;00m P_0_x_lijst]\n",
      "Cell \u001b[1;32mIn[38], line 16\u001b[0m, in \u001b[0;36mfit_vaste_x\u001b[1;34m(X, T, P, P_fout)\u001b[0m\n\u001b[0;32m     14\u001b[0m tijd \u001b[38;5;241m=\u001b[39m T[xval]\n\u001b[0;32m     15\u001b[0m tijdfit \u001b[38;5;241m=\u001b[39m functies\u001b[38;5;241m.\u001b[39mfit(druktijd_parameters, druktijd_model, invals_amplitude, tijd, druk, drukfout)\n\u001b[1;32m---> 16\u001b[0m omega_x\u001b[38;5;241m.\u001b[39mappend(functies\u001b[38;5;241m.\u001b[39mvector_to_datapunt(tijdfit[\u001b[38;5;241m0\u001b[39m]\u001b[38;5;241m.\u001b[39mcopy(), omega))\n\u001b[0;32m     17\u001b[0m omega_x \u001b[38;5;241m=\u001b[39m functies\u001b[38;5;241m.\u001b[39mmu_sigma(omega_x, omega)\n\u001b[0;32m     18\u001b[0m P_0_x\u001b[38;5;241m.\u001b[39mappend(tijdfit[\u001b[38;5;241m1\u001b[39m]\u001b[38;5;241m.\u001b[39mcopy())\n",
      "File \u001b[1;32mc:\\Users\\User\\Documents\\Cas\\Unif\\2e can\\experimentele\\github\\Experimentele_vscode\\functies.py:845\u001b[0m, in \u001b[0;36mvector_to_datapunt\u001b[1;34m(vector, variabele)\u001b[0m\n\u001b[0;32m    843\u001b[0m         \u001b[38;5;28;01mraise\u001b[39;00m \u001b[38;5;167;01mTypeError\u001b[39;00m(\u001b[38;5;124m\"\u001b[39m\u001b[38;5;124mvariabele moet een sp.symbol zijn\u001b[39m\u001b[38;5;124m\"\u001b[39m)\n\u001b[0;32m    844\u001b[0m waarde, fout, soort_fout \u001b[38;5;241m=\u001b[39m vector\n\u001b[1;32m--> 845\u001b[0m \u001b[38;5;28;01mreturn\u001b[39;00m classes\u001b[38;5;241m.\u001b[39mdatapunt(waarde, fout, variabele, soort_fout)\n",
      "File \u001b[1;32mc:\\Users\\User\\Documents\\Cas\\Unif\\2e can\\experimentele\\github\\Experimentele_vscode\\classes.py:209\u001b[0m, in \u001b[0;36mdatapunt.__init__\u001b[1;34m(self, waarde, fout, variabele, verdeling)\u001b[0m\n\u001b[0;32m    207\u001b[0m \u001b[38;5;28;01mif\u001b[39;00m verdeling \u001b[38;5;241m==\u001b[39m \u001b[38;5;124m\"\u001b[39m\u001b[38;5;124mNormaal\u001b[39m\u001b[38;5;124m\"\u001b[39m \u001b[38;5;129;01mor\u001b[39;00m verdeling \u001b[38;5;241m==\u001b[39m \u001b[38;5;124m\"\u001b[39m\u001b[38;5;124mN\u001b[39m\u001b[38;5;124m\"\u001b[39m \u001b[38;5;129;01mor\u001b[39;00m verdeling \u001b[38;5;241m==\u001b[39m \u001b[38;5;124m'\u001b[39m\u001b[38;5;124mS\u001b[39m\u001b[38;5;124m'\u001b[39m:\n\u001b[0;32m    208\u001b[0m     \u001b[38;5;28mself\u001b[39m\u001b[38;5;241m.\u001b[39mpmfout \u001b[38;5;241m=\u001b[39m fout\n\u001b[1;32m--> 209\u001b[0m     \u001b[38;5;28mself\u001b[39m\u001b[38;5;241m.\u001b[39mvariance \u001b[38;5;241m=\u001b[39m fout\u001b[38;5;241m*\u001b[39m\u001b[38;5;241m*\u001b[39m\u001b[38;5;241m2\u001b[39m\n\u001b[0;32m    210\u001b[0m \u001b[38;5;28;01melif\u001b[39;00m verdeling \u001b[38;5;241m==\u001b[39m \u001b[38;5;124m\"\u001b[39m\u001b[38;5;124mUniform\u001b[39m\u001b[38;5;124m\"\u001b[39m \u001b[38;5;129;01mor\u001b[39;00m verdeling \u001b[38;5;241m==\u001b[39m \u001b[38;5;124m\"\u001b[39m\u001b[38;5;124mU\u001b[39m\u001b[38;5;124m\"\u001b[39m:\n\u001b[0;32m    211\u001b[0m     \u001b[38;5;28;01mif\u001b[39;00m \u001b[38;5;28mtype\u001b[39m(fout) \u001b[38;5;241m==\u001b[39m \u001b[38;5;28mtuple\u001b[39m:\n",
      "\u001b[1;31mTypeError\u001b[0m: unsupported operand type(s) for ** or pow(): 'tuple' and 'int'"
     ]
    }
   ],
   "source": [
    "#### Hier volgt de effectieve data-analyse\n",
    "fix_data(X, T, P, P_fout)"
   ]
  }
 ],
 "metadata": {
  "kernelspec": {
   "display_name": "base",
   "language": "python",
   "name": "python3"
  },
  "language_info": {
   "codemirror_mode": {
    "name": "ipython",
    "version": 3
   },
   "file_extension": ".py",
   "mimetype": "text/x-python",
   "name": "python",
   "nbconvert_exporter": "python",
   "pygments_lexer": "ipython3",
   "version": "3.11.5"
  }
 },
 "nbformat": 4,
 "nbformat_minor": 2
}
