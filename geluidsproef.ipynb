{
 "cells": [
  {
   "cell_type": "code",
   "execution_count": 1,
   "metadata": {},
   "outputs": [],
   "source": [
    "import classes\n",
    "import functies\n",
    "import sympy as sp\n",
    "import numpy as np\n",
    "from matplotlib import pyplot as plt"
   ]
  },
  {
   "cell_type": "code",
   "execution_count": 2,
   "metadata": {},
   "outputs": [],
   "source": [
    "#puntje 2: definiëren van de functies\n",
    "k, omega, p_0, p_0_x, phi, x, t = sp.symbols('k omega p_0 p_0_x phi x t')\n",
    "\n",
    "#max amplitude in functie van x \n",
    "drukamplitude_vergelijking = classes.vergelijking(p_0 * sp.sin(k*x + phi))\n",
    "drukamplitude_parameters = ['k', 'p_0', 'phi']\n",
    "\n",
    "def drukamplitude_model(X, parameters):\n",
    "    K, P_0, PHI = parameters\n",
    "    return P_0 * np.sin(K*X + PHI)\n",
    "\n",
    "#amplitude in functie van tijd voor vaste x \n",
    "druktijd_vergelijking = classes.vergelijking(p_0*sp.cos(omega*t+phi)) #merk op dat dit niet per sé dezelfde phi is als voor x, maar is irrelevant voor de fitcode\n",
    "druktijd_parameters = ['omega', 'p_0_x', 'phi']\n",
    "\n",
    "def druktijd_model(T, parameters):\n",
    "    omega, p_0, phi = parameters\n",
    "    return p_0*np.cos(omega*T+phi)\n"
   ]
  },
  {
   "cell_type": "code",
   "execution_count": 3,
   "metadata": {},
   "outputs": [],
   "source": [
    "###sjoemeliere sjoemelare om de txt files met de data om te zetten in effectieve nuttige dataverwerkingen\n",
    "#blah blah...\n",
    "\n",
    "###TEST_DATA:\n",
    "\n",
    "X = [0,150,300] #een vector met de x-coordinaten van de metingen\n",
    "T = [ np.linspace(0,10), #een matrix met de tijden voor elke meting op elke x-coordinaat\n",
    "      np.linspace(1,11),\n",
    "      np.linspace(7, 27)\n",
    "]\n",
    "\n",
    "P = [ 0.5*np.sin(np.linspace(0,10)+3)+np.random.normal(0,1), #een matrix met coordinaten P[x_coordinaat][tijd] #random normale fouten ingevoegd voor de test\n",
    "          np.sin(np.linspace(0,10)+np.random.normal(0,1)), \n",
    "      0.5*np.sin(np.linspace(0,10)-1)+np.random.normal(0,1)\n",
    "]\n",
    "P_fout = np.full(np.shape(P), 1) #een matrix van dezelfde vorm als P met de fouten in\n",
    "\n",
    "\n",
    "\n",
    "xval = 0\n",
    "def invals_amplitude(x,y):\n",
    "    phiwaardes = [3,0,-1]\n",
    "    return [1,1,phiwaardes[xval]] #op deze manier kunnen we handmatig de fasehoek vastleggen en zo de tekenfout bij P_0 voorkomen\n",
    "\n",
    "def invals_vastex(x,y):\n",
    "    return [0,0,0]"
   ]
  },
  {
   "cell_type": "code",
   "execution_count": 4,
   "metadata": {},
   "outputs": [],
   "source": [
    "###vind de drukamplitude voor een vaste x-coordinaat\n",
    "def fit_vaste_x(X, T, P, P_fout):\n",
    "    \"\"\"\n",
    "    @IN:\n",
    "    matrices X, T P en P_fout als gedefinieerd in vorige opgave\n",
    "    @OUT:\n",
    "    een lijst met maximale amplitude, in de volgorde van de x-coordinaat waarin ze voorkomen, en de pulsatie in datapuntvorm\n",
    "    \"\"\"\n",
    "    P_0_x = []\n",
    "    omega_x = []\n",
    "    for xval in range(len(X)):\n",
    "        druk = P[xval]\n",
    "        drukfout = P_fout[xval]\n",
    "        tijd = T[xval]\n",
    "        tijdfit = functies.fit(druktijd_parameters, druktijd_model, invals_amplitude, tijd, druk, drukfout)\n",
    "        omega_x.append(functies.vector_to_datapunt(tijdfit[0].copy(), omega))\n",
    "        omega_x = functies.mu_sigma(omega_x, omega)\n",
    "        P_0_x.append(tijdfit[1].copy())\n",
    "\n",
    "    return P_0_x, omega_x\n",
    "\n",
    "#fix de drukamplitude naar de x-coordinaat\n",
    "def fit_naar_x(X, P_0_x, P_0_x_ERR):\n",
    "    fitwaardes = functies.fit(drukamplitude_parameters, drukamplitude_model, invals_vastex, X, P_0_x, P_0_x_ERR)\n",
    "    K = functies.vector_to_datapunt(fitwaardes[0], k)\n",
    "    P_0 = functies.vector_to_datapunt(fitwaardes[1], p_0)\n",
    "    PHI = functies.vector_to_datapunt(fitwaardes[2], phi)\n",
    "    return K, P_0, PHI\n",
    "\n",
    "#voor de experimenten met vaste frequentie:\n",
    "def fix_data(X, T, P, P_fout):\n",
    "    P_0_x_lijst, omega_x = fit_vaste_x(X, T, P, P_fout)\n",
    "    P_0_x = [P_0_x_elem[0] for P_0_x_elem in P_0_x_lijst]\n",
    "    P_0_x_ERR = [P_0_x_elem[1] for P_0_x_elem in P_0_x_lijst]\n",
    "    K, P_0, PHI = fit_naar_x(X, P_0_x, P_0_x_ERR)\n",
    "\n",
    "    x_fit = np.linspace(0,300)\n",
    "    druk_fit = P_0.get_val()*np.sin(K.get_val()*x_fit+PHI.get_val())\n",
    "    #plot het boeltje\n",
    "    fig, ax = plt.subplots(1,1)\n",
    "    ax.errorbar(X, P_0_x, yerr = P_0_x_ERR, label = 'gemeten')\n",
    "\n",
    "    ax.plot(x_fit, druk_fit, label = 'model')\n",
    "\n",
    "    ax.set_ylabel('P_0 [EENHEID]')\n",
    "    ax.set_xlabel('x (mm)')\n",
    "    ax.legend(\"drukamplitude in functie van positie\")\n",
    "    ax.legend()\n",
    "    plt.tight_layout()\n",
    "    plt.show()"
   ]
  },
  {
   "cell_type": "code",
   "execution_count": 5,
   "metadata": {},
   "outputs": [
    {
     "name": "stdout",
     "output_type": "stream",
     "text": [
      "Raw output\n",
      "       message: Optimization terminated successfully.\n",
      "       success: True\n",
      "        status: 0\n",
      "           fun: 0.7373741930110452\n",
      "             x: [ 9.800e-01  5.471e-01  1.517e+00]\n",
      "           nit: 88\n",
      "          nfev: 153\n",
      " final_simplex: (array([[ 9.800e-01,  5.471e-01,  1.517e+00],\n",
      "                       [ 9.800e-01,  5.471e-01,  1.517e+00],\n",
      "                       [ 9.800e-01,  5.471e-01,  1.517e+00],\n",
      "                       [ 9.800e-01,  5.471e-01,  1.517e+00]]), array([ 7.374e-01,  7.374e-01,  7.374e-01,  7.374e-01]))\n",
      "[[0.06722511481487013, 62.669567156139344], [0.1622862162119318, 0.9318386803016883], [0.8362830254387777, 2.204780609112057]]\n",
      "omega heeft als waarde: 0.97999 + 61.69 - 0.91277 met 68% betrouwbaarheidsinterval: [0.067225, 62.67] \n",
      "p_0_x heeft als waarde: 0.54705 + 0.38478 - 0.38477 met 68% betrouwbaarheidsinterval: [0.16229, 0.93184] \n",
      "phi heeft als waarde: 1.5174 + 0.68741 - 0.68108 met 68% betrouwbaarheidsinterval: [0.83628, 2.2048] \n",
      "De p-waarde voor de hypothese test dat het model zinvol is, wordt gegeven door: 1\n",
      "De gereduceerde chi^2 waarde is: 0.015689\n"
     ]
    },
    {
     "name": "stderr",
     "output_type": "stream",
     "text": [
      "c:\\Users\\User\\anaconda3\\Lib\\site-packages\\scipy\\optimize\\_minpack_py.py:177: RuntimeWarning: The iteration is not making good progress, as measured by the \n",
      "  improvement from the last ten iterations.\n",
      "  warnings.warn(msg, RuntimeWarning)\n"
     ]
    },
    {
     "ename": "Error",
     "evalue": "bro wtf uw naam is geen string en geen sympy.symbol maar een <class 'sympy.core.symbol.Symbol'>",
     "output_type": "error",
     "traceback": [
      "\u001b[1;31m---------------------------------------------------------------------------\u001b[0m",
      "\u001b[1;31mError\u001b[0m                                     Traceback (most recent call last)",
      "Cell \u001b[1;32mIn[5], line 2\u001b[0m\n\u001b[0;32m      1\u001b[0m \u001b[38;5;66;03m#### Hier volgt de effectieve data-analyse\u001b[39;00m\n\u001b[1;32m----> 2\u001b[0m fix_data(X, T, P, P_fout)\n",
      "Cell \u001b[1;32mIn[4], line 32\u001b[0m, in \u001b[0;36mfix_data\u001b[1;34m(X, T, P, P_fout)\u001b[0m\n\u001b[0;32m     31\u001b[0m \u001b[38;5;28;01mdef\u001b[39;00m \u001b[38;5;21mfix_data\u001b[39m(X, T, P, P_fout):\n\u001b[1;32m---> 32\u001b[0m     P_0_x_lijst, omega_x \u001b[38;5;241m=\u001b[39m fit_vaste_x(X, T, P, P_fout)\n\u001b[0;32m     33\u001b[0m     P_0_x \u001b[38;5;241m=\u001b[39m [P_0_x_elem[\u001b[38;5;241m0\u001b[39m] \u001b[38;5;28;01mfor\u001b[39;00m P_0_x_elem \u001b[38;5;129;01min\u001b[39;00m P_0_x_lijst]\n\u001b[0;32m     34\u001b[0m     P_0_x_ERR \u001b[38;5;241m=\u001b[39m [P_0_x_elem[\u001b[38;5;241m1\u001b[39m] \u001b[38;5;28;01mfor\u001b[39;00m P_0_x_elem \u001b[38;5;129;01min\u001b[39;00m P_0_x_lijst]\n",
      "Cell \u001b[1;32mIn[4], line 17\u001b[0m, in \u001b[0;36mfit_vaste_x\u001b[1;34m(X, T, P, P_fout)\u001b[0m\n\u001b[0;32m     15\u001b[0m     tijdfit \u001b[38;5;241m=\u001b[39m functies\u001b[38;5;241m.\u001b[39mfit(druktijd_parameters, druktijd_model, invals_amplitude, tijd, druk, drukfout)\n\u001b[0;32m     16\u001b[0m     omega_x\u001b[38;5;241m.\u001b[39mappend(functies\u001b[38;5;241m.\u001b[39mvector_to_datapunt(tijdfit[\u001b[38;5;241m0\u001b[39m]\u001b[38;5;241m.\u001b[39mcopy(), omega))\n\u001b[1;32m---> 17\u001b[0m     omega_x \u001b[38;5;241m=\u001b[39m functies\u001b[38;5;241m.\u001b[39mmu_sigma(omega_x, omega)\n\u001b[0;32m     18\u001b[0m     P_0_x\u001b[38;5;241m.\u001b[39mappend(tijdfit[\u001b[38;5;241m1\u001b[39m]\u001b[38;5;241m.\u001b[39mcopy())\n\u001b[0;32m     20\u001b[0m \u001b[38;5;28;01mreturn\u001b[39;00m P_0_x, omega_x\n",
      "File \u001b[1;32mc:\\Users\\User\\Documents\\Cas\\Unif\\2e can\\experimentele\\github\\Experimentele_vscode\\functies.py:190\u001b[0m, in \u001b[0;36mmu_sigma\u001b[1;34m(waarden, naam)\u001b[0m\n\u001b[0;32m    188\u001b[0m     \u001b[38;5;28;01melse\u001b[39;00m:\n\u001b[0;32m    189\u001b[0m         tiepuh \u001b[38;5;241m=\u001b[39m \u001b[38;5;28mstr\u001b[39m(\u001b[38;5;28mtype\u001b[39m(naam))\n\u001b[1;32m--> 190\u001b[0m         \u001b[38;5;28;01mraise\u001b[39;00m Error(\u001b[38;5;124m\"\u001b[39m\u001b[38;5;124mbro wtf uw naam is geen string en geen sympy.symbol maar een \u001b[39m\u001b[38;5;124m\"\u001b[39m\u001b[38;5;241m+\u001b[39m\u001b[38;5;28mstr\u001b[39m(tiepuh))\n\u001b[0;32m    191\u001b[0m teller \u001b[38;5;241m=\u001b[39m np\u001b[38;5;241m.\u001b[39msum(vals \u001b[38;5;241m*\u001b[39m g_vals)\n\u001b[0;32m    192\u001b[0m noemer \u001b[38;5;241m=\u001b[39m np\u001b[38;5;241m.\u001b[39msum(g_vals)\n",
      "\u001b[1;31mError\u001b[0m: bro wtf uw naam is geen string en geen sympy.symbol maar een <class 'sympy.core.symbol.Symbol'>"
     ]
    }
   ],
   "source": [
    "#### Hier volgt de effectieve data-analyse\n",
    "fix_data(X, T, P, P_fout)"
   ]
  },
  {
   "cell_type": "code",
   "execution_count": null,
   "metadata": {},
   "outputs": [
    {
     "name": "stdout",
     "output_type": "stream",
     "text": [
      "p_0\n",
      "<class 'sympy.core.symbol.Symbol'>\n",
      "p_0\n",
      "<class 'str'>\n"
     ]
    }
   ],
   "source": []
  }
 ],
 "metadata": {
  "kernelspec": {
   "display_name": "base",
   "language": "python",
   "name": "python3"
  },
  "language_info": {
   "codemirror_mode": {
    "name": "ipython",
    "version": 3
   },
   "file_extension": ".py",
   "mimetype": "text/x-python",
   "name": "python",
   "nbconvert_exporter": "python",
   "pygments_lexer": "ipython3",
   "version": "3.11.5"
  }
 },
 "nbformat": 4,
 "nbformat_minor": 2
}
