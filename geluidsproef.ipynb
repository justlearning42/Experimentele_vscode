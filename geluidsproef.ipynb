{
 "cells": [
  {
   "cell_type": "code",
   "execution_count": 14,
   "metadata": {},
   "outputs": [],
   "source": [
    "import classes\n",
    "import functies\n",
    "import sympy as sp\n",
    "import numpy as np"
   ]
  },
  {
   "cell_type": "code",
   "execution_count": null,
   "metadata": {},
   "outputs": [],
   "source": [
    "#puntje 2: definiëren an de functies\n",
    "k, omega, p_0, p_0_x, phi, x, t = sp.symbols('k omega p_0 p_0_x phi x t')\n",
    "\n",
    "#max amplitude in functie van x \n",
    "drukamplitude_vergelijking = classes.vergelijking(p_0 * sp.sin(k*x + phi))\n",
    "drukamplitude_parameters = ['k', 'p_0', 'phi']\n",
    "\n",
    "def drukamplitude_model(X, parameters):\n",
    "    K, P_0, PHI = parameters\n",
    "    return P_0 * np.sin(K*X + PHI)\n",
    "\n",
    "#amplitude in functie van tijd voor vaste x \n",
    "druktijd_vergelijking = classes.vergelijking(p_0*sp.cos(omega*t+phi)) #merk op dat dit niet per sé dezelfde phi is als voor x, maar is irrelevant voor de fitcode\n",
    "druktijd_parameters = ['omega', 'p_0_x', 'phi']\n",
    "\n",
    "def druktijd_model(T, parameters):\n",
    "    omega, p_0, phi = parameters\n",
    "    return p_0*np.cos(omega*T+phi)\n"
   ]
  },
  {
   "cell_type": "code",
   "execution_count": null,
   "metadata": {},
   "outputs": [],
   "source": [
    "###sjoemeliere sjoemelare om de txt files met de data om te zetten in effectieve nuttige dataverwerkingen\n",
    "#blah blah...\n",
    "\n",
    "###TEST_DATA:\n",
    "\n",
    "X = [0,10,20] #een vector met de x-coordinaten van de metingen\n",
    "T = [ np.linspace(0,10), #een matrix met de tijden voor elke meting op elke x-coordinaat\n",
    "      np.linspace(1,11),\n",
    "      np.linspace(7, 27)\n",
    "]\n",
    "\n",
    "P = [ 0.5*np.sin(np.linspace(0,10)+3)+np.random.normal(0,1), #een matrix met coordinaten P[x_coordinaat][tijd] #random normale fouten ingevoegd voor de test\n",
    "          np.sin(np.linspace(0,10)+np.random.normal(0,1)), \n",
    "      0.5*np.sin(np.linspace(0,10)-1)+np.random.normal(0,1)\n",
    "]\n",
    "P_fout = np.full(np.shape(P), 1) #een matrix van dezelfde vorm als P met de fouten in\n",
    "\n",
    "\n",
    "\n",
    "xval = 0\n",
    "def invals_amplitude(x,y):\n",
    "    phiwaardes = [3,0,-1]\n",
    "    return [1,1,phiwaardes[xval]] #op deze manier kunnen we handmatig de fasehoek vastleggen en zo de tekenfout bij P_0 voorkomen\n",
    "\n",
    "def invals_vastex(x,y):\n",
    "    return [0,0,0]"
   ]
  },
  {
   "cell_type": "code",
   "execution_count": null,
   "metadata": {},
   "outputs": [],
   "source": [
    "###vind de drukamplitude voor een vaste x-coordinaat\n",
    "def fit_vaste_x(X, T, P, P_fout):\n",
    "    \"\"\"\n",
    "    @IN:\n",
    "    matrices X, T P en P_fout als gedefinieerd in vorige opgave\n",
    "    @OUT:\n",
    "    een lijst met maximale amplitude in datapuntvorm, in de volgorde van de x-coordinaat waarin ze voorkomen, en de pulsatie in datapuntvorm\n",
    "    \"\"\"\n",
    "    P_0_x = []\n",
    "    omega_x = []\n",
    "    for xval in range(len(X)):\n",
    "        druk = P[xval]\n",
    "        drukfout = P_fout[xval]\n",
    "        tijd = T[xval]\n",
    "        tijdfit = functies.fit(druktijd_parameters, druktijd_model, invals_amplitude, tijd, druk, drukfout)\n",
    "\n",
    "        omega_x.append(functies.vector_to_datapunt(tijdfit[0].copy(), omega))\n",
    "        omega_x = functies.mu_sigma(omega_x, omega)\n",
    "        P_0_x.append(functies.vector_to_datapunt(tijdfit[1].copy(), p_0_x))\n",
    "\n",
    "    return P_0_x, omega_x\n",
    "\n",
    "#fix de drukamplitude naar de x-coordinaat\n",
    "def fit_naar_x(X, P_0_x, P_0_x_ERR):\n",
    "    fitwaardes = functies.fit(drukamplitude_parameters, drukamplitude_model, invals_vastex, X, P_0_x, P_0_x_ERR)\n",
    "    K = functies.vector_to_datapunt(fitwaardes[0], k)\n",
    "    P_0 = functies.vector_to_datapunt(fitwaardes[1], p_0)\n",
    "    PHI = functies.vector_to_datapunt(fitwaardes[2], phi)\n",
    "    return K, P_0, PHI"
   ]
  },
  {
   "cell_type": "code",
   "execution_count": null,
   "metadata": {},
   "outputs": [
    {
     "name": "stdout",
     "output_type": "stream",
     "text": [
      "Raw output\n"
     ]
    },
    {
     "ename": "TypeError",
     "evalue": "'list' object is not callable",
     "output_type": "error",
     "traceback": [
      "\u001b[1;31m---------------------------------------------------------------------------\u001b[0m",
      "\u001b[1;31mTypeError\u001b[0m                                 Traceback (most recent call last)",
      "Cell \u001b[1;32mIn[19], line 1\u001b[0m\n\u001b[1;32m----> 1\u001b[0m xfit \u001b[38;5;241m=\u001b[39m functies\u001b[38;5;241m.\u001b[39mfit(drukamplitude_parameters, drukamplitude_model, [\u001b[38;5;241m1\u001b[39m,\u001b[38;5;241m1\u001b[39m,\u001b[38;5;241m1\u001b[39m], X, P_0, P_0_ERR)\n",
      "File \u001b[1;32mc:\\Users\\User\\Documents\\Cas\\Unif\\2e can\\experimentele\\github\\Experimentele_vscode\\functies.py:275\u001b[0m, in \u001b[0;36mfit\u001b[1;34m(parameters, model, initial_vals, x_val, y_val, y_err, soort_fout, x_as_titels, y_as_titels, titel, detailed_logs)\u001b[0m\n\u001b[0;32m    269\u001b[0m \u001b[38;5;28;01mdef\u001b[39;00m \u001b[38;5;21mfit\u001b[39m(parameters, model, initial_vals, x_val, y_val, y_err, soort_fout \u001b[38;5;241m=\u001b[39m \u001b[38;5;124m\"\u001b[39m\u001b[38;5;124mStat\u001b[39m\u001b[38;5;124m\"\u001b[39m, \n\u001b[0;32m    270\u001b[0m         x_as_titels \u001b[38;5;241m=\u001b[39m \u001b[38;5;124m\"\u001b[39m\u001b[38;5;124mGeneric\u001b[39m\u001b[38;5;124m\"\u001b[39m, y_as_titels \u001b[38;5;241m=\u001b[39m \u001b[38;5;124m\"\u001b[39m\u001b[38;5;124mGeneric\u001b[39m\u001b[38;5;124m\"\u001b[39m, titel \u001b[38;5;241m=\u001b[39m \u001b[38;5;124m\"\u001b[39m\u001b[38;5;124mGeneric\u001b[39m\u001b[38;5;124m\"\u001b[39m, detailed_logs \u001b[38;5;241m=\u001b[39m \u001b[38;5;28;01mFalse\u001b[39;00m): \u001b[38;5;66;03m#Veel van deze inputs doen niets, kmoet nog pretty\u001b[39;00m\n\u001b[0;32m    271\u001b[0m     \u001b[38;5;66;03m#print code schrijven\u001b[39;00m\n\u001b[0;32m    272\u001b[0m     \u001b[38;5;66;03m#TODO: cas_matrix support maken\u001b[39;00m\n\u001b[0;32m    273\u001b[0m     \u001b[38;5;66;03m#TODO: ML code schrijven\u001b[39;00m\n\u001b[0;32m    274\u001b[0m     \u001b[38;5;28mprint\u001b[39m(\u001b[38;5;124m\"\u001b[39m\u001b[38;5;124mRaw output\u001b[39m\u001b[38;5;124m\"\u001b[39m)\n\u001b[1;32m--> 275\u001b[0m     mini \u001b[38;5;241m=\u001b[39m minimize_chi2(model, initial_vals, x_val, y_val, y_err, soort_fout)\n\u001b[0;32m    276\u001b[0m     chi_min \u001b[38;5;241m=\u001b[39m mini[\u001b[38;5;124m\"\u001b[39m\u001b[38;5;124mfun\u001b[39m\u001b[38;5;124m\"\u001b[39m]\n\u001b[0;32m    277\u001b[0m     min_param \u001b[38;5;241m=\u001b[39m mini[\u001b[38;5;124m\"\u001b[39m\u001b[38;5;124mx\u001b[39m\u001b[38;5;124m\"\u001b[39m]\n",
      "File \u001b[1;32mc:\\Users\\User\\Documents\\Cas\\Unif\\2e can\\experimentele\\github\\Experimentele_vscode\\functies.py:242\u001b[0m, in \u001b[0;36mminimize_chi2\u001b[1;34m(model, initial_vals, x_val, y_val, y_err, soort_fout)\u001b[0m\n\u001b[0;32m    229\u001b[0m \u001b[38;5;250m\u001b[39m\u001b[38;5;124;03m\"\"\"Minimaliseert de chi^2 waarde voor een gegeven model en een aantal datapunten\u001b[39;00m\n\u001b[0;32m    230\u001b[0m \u001b[38;5;124;03m\u001b[39;00m\n\u001b[0;32m    231\u001b[0m \u001b[38;5;124;03mArgs:\u001b[39;00m\n\u001b[1;32m   (...)\u001b[0m\n\u001b[0;32m    239\u001b[0m \u001b[38;5;124;03m    oplossing: Een array dat de minimale waardes voor de parameters geeft\u001b[39;00m\n\u001b[0;32m    240\u001b[0m \u001b[38;5;124;03m\"\"\"\u001b[39;00m\n\u001b[0;32m    241\u001b[0m chi2_func \u001b[38;5;241m=\u001b[39m \u001b[38;5;28;01mlambda\u001b[39;00m \u001b[38;5;241m*\u001b[39margs: chi2_bereken(\u001b[38;5;241m*\u001b[39margs)\n\u001b[1;32m--> 242\u001b[0m gok \u001b[38;5;241m=\u001b[39m initial_vals(x_val, y_val)\n\u001b[0;32m    243\u001b[0m mini \u001b[38;5;241m=\u001b[39m minimize(chi2_func, gok, args \u001b[38;5;241m=\u001b[39m (x_val, y_val, y_err, soort_fout, model), method\u001b[38;5;241m=\u001b[39m\u001b[38;5;124m\"\u001b[39m\u001b[38;5;124mNelder-Mead\u001b[39m\u001b[38;5;124m\"\u001b[39m)\n\u001b[0;32m    244\u001b[0m \u001b[38;5;28;01mreturn\u001b[39;00m mini\n",
      "\u001b[1;31mTypeError\u001b[0m: 'list' object is not callable"
     ]
    }
   ],
   "source": []
  }
 ],
 "metadata": {
  "kernelspec": {
   "display_name": "base",
   "language": "python",
   "name": "python3"
  },
  "language_info": {
   "codemirror_mode": {
    "name": "ipython",
    "version": 3
   },
   "file_extension": ".py",
   "mimetype": "text/x-python",
   "name": "python",
   "nbconvert_exporter": "python",
   "pygments_lexer": "ipython3",
   "version": "3.11.5"
  }
 },
 "nbformat": 4,
 "nbformat_minor": 2
}
