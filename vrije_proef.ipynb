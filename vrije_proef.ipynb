{
 "cells": [
  {
   "cell_type": "code",
   "execution_count": 2,
   "metadata": {},
   "outputs": [],
   "source": [
    "from General import functies as functies\n",
    "from General import classes as classes\n",
    "import sympy as sp\n",
    "import numpy as np\n",
    "import matplotlib.pyplot as plt"
   ]
  },
  {
   "cell_type": "code",
   "execution_count": null,
   "metadata": {},
   "outputs": [
    {
     "name": "stdout",
     "output_type": "stream",
     "text": [
      "datapunt: rho = [3963.62885094759, 1619.12502459597, 'Normaal']\n"
     ]
    }
   ],
   "source": [
    "rho, m, r1, r2, L = sp.symbols('rho m r1 r2 L')\n",
    "massadichtheidformule = classes.vergelijking(m / (np.pi*(r2**2 - r1**2) * L), [m, r1, r2, L])\n",
    "#massadichtheid koperen buis van 1 m\n",
    "massa_Cu1m = classes.datapunt(0.364, 0.001, m, 'U') #kg\n",
    "straal_binnenrand = classes.datapunt(14e-3, 0.5e-3, r1, 'U') #meter\n",
    "straal_buitenrand = classes.datapunt(15e-3, 0.5e-3, r2, 'U') #meter\n",
    "lengte = classes.datapunt(100.8e-2, 0.2e-2, L, 'U') #meter\n",
    "massadichtheid_Cu = massadichtheidformule.evaluate([massa_Cu1m, straal_binnenrand, straal_buitenrand, lengte], None, rho)\n",
    "print(massadichtheid_Cu)\n",
    "\n",
    "\"\"\"\n",
    "Vermoedelijk heeft de producent gesjoemeld in de dikte van de buis waardoor de berekening niet uitkomt.\n",
    "Gezien het gecontroleerd is door de Europese Unie gaan we ervan uit dat het aan de >99.90% zuiverheidsnorm voldoet.\n",
    "\"\"\"\n"
   ]
  },
  {
   "cell_type": "code",
   "execution_count": null,
   "metadata": {},
   "outputs": [],
   "source": []
  }
 ],
 "metadata": {
  "kernelspec": {
   "display_name": "base",
   "language": "python",
   "name": "python3"
  },
  "language_info": {
   "codemirror_mode": {
    "name": "ipython",
    "version": 3
   },
   "file_extension": ".py",
   "mimetype": "text/x-python",
   "name": "python",
   "nbconvert_exporter": "python",
   "pygments_lexer": "ipython3",
   "version": "3.11.5"
  }
 },
 "nbformat": 4,
 "nbformat_minor": 2
}
