{
 "cells": [
  {
   "cell_type": "code",
   "execution_count": null,
   "metadata": {},
   "outputs": [],
   "source": [
    "import numpy as np\n",
    "import sympy as sp\n",
    "from General import functies as functies\n",
    "from General import classes as classes\n",
    "from matplotlib import pyplot as plt\n",
    "from scipy.interpolate import CubicSpline"
   ]
  },
  {
   "cell_type": "code",
   "execution_count": null,
   "metadata": {},
   "outputs": [],
   "source": [
    "#de exacte oplossing van die fucking derdegraadsveelterm die [H+] beschrijft\n",
    "H, Ka, Na, c0, a = sp.symbols('H Ka Na c0 a') #a = concentratie H en OH door autoprotolyse van water\n",
    "Kw = 10**(-7) #de waterconstante\n",
    "\"\"\" #poging die fout bleek\n",
    "vergelijking = sp.Eq(H**3 + Ka*H**2 + (Na-Kw*c0)*H + Ka*(Na - Kw), 0)\n",
    "display(vergelijking)\n",
    "oplossing = sp.solve(vergelijking, H)\n",
    "for opl in oplossing:\n",
    "    testval = opl.subs(Ka, 10**(-4.74)).subs(Na, 0).subs(c0, 1).evalf()\n",
    "    display(testval)\n",
    "    print('pH:')\n",
    "    display(-np.log10(float(abs(testval))))\n",
    "    print('_________')\n",
    "    #skip dat imaginair deel, uit de \n",
    "print('____________take 2_______________')\n",
    "#poging 2:\"\"\"\n",
    "vergelijking = sp.Eq(Ka*(c0 + a)*(a+Na)**2 - Kw**2 + Kw*a*(a+Na), 0)\n",
    "oplossing = sp.solve(vergelijking, a)\n",
    "#testreeks 1 van de oplossingen:\n",
    "\"\"\"\"\n",
    "for opl in oplossing:\n",
    "    H = Kw/(opl+Na) - opl\n",
    "    testval = H.subs(Ka, 10**(-4.74)).subs(Na, 0).subs(c0,1).evalf()\n",
    "    display(testval)\n",
    "    print('pH:')\n",
    "    display(-np.log10(float(abs(testval))))\n",
    "    print('______')\n",
    "#gezien hier pH = 1/2 pKa - 1/2 log cA = 4.74/2, valt de eerste oplossing al af\n",
    "for opl in oplossing:\n",
    "    H = Kw/(opl+Na) - opl\n",
    "    testval = H.subs(Ka, 10**(-4.74)).subs(Na, 1/2).subs(c0,1).evalf()\n",
    "    display(testval)\n",
    "    print('pH:')\n",
    "    display(-np.log10(float(abs(testval))))\n",
    "    print('______')\n",
    "#gezien hier pH = pKa - log(cA/cB) = 4.74 moet het de derde oplossing zijn die we zoeken\"\"\"\n",
    "\n",
    "exacteoplossing = sp.simplify(oplossing[2].subs(Ka, 10**(-4.74)))\n",
    "display(exacteoplossing)"
   ]
  },
  {
   "cell_type": "code",
   "execution_count": null,
   "metadata": {},
   "outputs": [],
   "source": [
    "def pH_buffer(pKa, ca, cb):\n",
    "    return pKa - np.log10(ca/cb)\n",
    "\n",
    "def nieuw_mengsel(ca, cb, deltaca, deltacb):\n",
    "    canieuw = ca+deltaca-deltacb\n",
    "    cbnieuw = cb-deltaca+deltacb\n",
    "    return canieuw, cbnieuw\n",
    "\n",
    "def pH_experiment_bufferzone(VNaOH, parameters):\n",
    "    begin_n = parameters[0]\n",
    "    NaOH = VNaOH * 0.1 #Molair\n",
    "    return pH_buffer(4.74, (begin_n - NaOH)/(40e-3 + VNaOH), NaOH/(40e-3 + VNaOH))\n",
    "\n",
    "def pH_experiment(VNaOH, parameters):\n",
    "    c0val = parameters[0]\n",
    "    concentratie_CH3COOH = c0val * 40e-3/(40e-3 + VNaOH)\n",
    "    nNaOH = VNaOH*0.1 #stofhoeveelheid natriumhydroxide\n",
    "    cNaOH = nNaOH/(40e-3+VNaOH)\n",
    "    output = sp.lambdify([c0, Na], exacteoplossing, 'numpy')(concentratie_CH3COOH, cNaOH)\n",
    "    return output\n",
    "\n",
    "\n",
    "    "
   ]
  },
  {
   "cell_type": "code",
   "execution_count": null,
   "metadata": {},
   "outputs": [],
   "source": [
    "#voorbereidende oefening\n",
    "cabegin = 0.5 #alles in molair doen\n",
    "cbbegin = 0.5\n",
    "pKa = 4.76\n",
    "extrazuur = np.linspace(-0.5,0.5) #negatief toegevoegd zuur = toegevoegd base\n",
    "fig, ax = plt.subplots(1,1)\n",
    "ax.plot(extrazuur, pH_buffer(pKa, *nieuw_mengsel(cabegin, cbbegin, extrazuur, 0)), label = 'pH')\n",
    "D1 = pH_buffer(pKa, *nieuw_mengsel(cabegin, cbbegin, extrazuur[:-1], 0))\n",
    "D2 = pH_buffer(pKa, *nieuw_mengsel(cabegin, cbbegin, extrazuur[1:], 0))\n",
    "afgeleide = (D2-D1)/(extrazuur[1]-extrazuur[0])\n",
    "ax.plot(extrazuur[1:], afgeleide, label = 'afgeleide van de pH naar de concentratie zuur')\n",
    "ax.set_xlabel('extra toegevoegd zuur (positief) of base (negatief) [M]')\n",
    "ax.set_ylabel('pH/mol')\n",
    "ax.legend()\n",
    "plt.tight_layout()\n",
    "plt.show()\n",
    "print('minimum van de afgeleide:')\n",
    "print('x = ',(extrazuur[np.argmax(afgeleide)] + extrazuur[1+np.argmax(afgeleide)])/2, ' dy/dx = ', np.max(afgeleide))\n",
    "#het is duidelijk minimaal rond 0"
   ]
  },
  {
   "cell_type": "code",
   "execution_count": null,
   "metadata": {},
   "outputs": [],
   "source": [
    "#de plot van de data en zo\n",
    "adres = 'buffer/titratie2.txt'\n",
    "volumes,pHs = np.loadtxt(adres, delimiter=\",\").T #volumes in ml\n",
    "volumes *= 10**(-3) #vanaf nu volumes in l\n",
    "volumelinspace = np.linspace(0,20e-3,5000)\n",
    "pHfunctie = CubicSpline(volumes, pHs)\n",
    "fig, ax = plt.subplots(1,1, figsize = (10,10))\n",
    "ax.errorbar(volumes, pHs, xerr = 0.5e-3, yerr = 0.01, linestyle = '', label = 'data')\n",
    "ax.plot(volumelinspace, pHfunctie(volumelinspace), label = 'interpolatie')\n",
    "ax.plot(volumelinspace, pH_experiment(volumelinspace, [0.001]), label = 'model', zorder = 2)\n",
    "ax.set_ylabel('pH')\n",
    "ax.set_xlabel('Volume toegevoegd NaOH [l]')\n",
    "ax.legend()\n",
    "plt.tight_layout()\n",
    "plt.show()"
   ]
  },
  {
   "cell_type": "code",
   "execution_count": null,
   "metadata": {},
   "outputs": [],
   "source": [
    "#fit overal:\n",
    "def invals(x,y):\n",
    "    return [0.001/40]\n",
    "functies.fit_2D(['c0'], pH_experiment, invals, volumes, pHs, np.full(np.shape(volumes),1e-3)**2/12, np.full(np.shape(pHs),0.01)**2/12,  x_as_titel= 'toegevoegd volume (l)', y_as_titel = 'pH', bounds=[(0,5)], detailed_logs=False)"
   ]
  },
  {
   "cell_type": "code",
   "execution_count": null,
   "metadata": {},
   "outputs": [],
   "source": [
    "#fit het buffergebied binnen pKa - 1 tot pKa + 1\n",
    "indxmin = 0\n",
    "while pHs[indxmin] < 3.74:\n",
    "    indxmin+=1\n",
    "indxmax = indxmin+1\n",
    "while pHs[indxmax] < 5.74:\n",
    "    indxmax += 1\n",
    "volumesreduced = volumes[indxmin: indxmax]\n",
    "pHsreduced = pHs[indxmin: indxmax]\n",
    "def invals(x,y):\n",
    "    return [0.001]\n",
    "functies.fit_2D(['n_0'], pH_experiment, invals, volumesreduced, pHsreduced, np.full(np.shape(volumesreduced),1e-3)**2/12, np.full(np.shape(pHsreduced),0.01)**2/12, grootteorde = 1e-3, x_as_titel= 'toegevoegd volume (l)', y_as_titel = 'pH', bounds=[(0,5)], detailed_logs=False)"
   ]
  }
 ],
 "metadata": {
  "kernelspec": {
   "display_name": "base",
   "language": "python",
   "name": "python3"
  },
  "language_info": {
   "codemirror_mode": {
    "name": "ipython",
    "version": 3
   },
   "file_extension": ".py",
   "mimetype": "text/x-python",
   "name": "python",
   "nbconvert_exporter": "python",
   "pygments_lexer": "ipython3",
   "version": "3.11.5"
  }
 },
 "nbformat": 4,
 "nbformat_minor": 2
}
