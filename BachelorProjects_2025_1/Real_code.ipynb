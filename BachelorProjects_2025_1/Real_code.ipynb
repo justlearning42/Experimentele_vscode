{
 "cells": [
  {
   "cell_type": "code",
   "execution_count": 41,
   "metadata": {},
   "outputs": [],
   "source": [
    "import numpy as np\n",
    "import pyvisa \n",
    "import time\n",
    "import csv\n",
    "import matplotlib.pyplot as plt\n",
    "\n",
    "from IPython.display import display, clear_output\n",
    "\n",
    "rm = pyvisa.ResourceManager()\n",
    "\n",
    "k2400_heater = rm.open_resource('GPIB0::2::INSTR')\n",
    "k2400_sample_current = rm.open_resource('GPIB0::1::INSTR') #good\n",
    "k2000_pt = rm.open_resource('GPIB0::26::INSTR') #good\n",
    "k2000_sample_voltage = rm.open_resource('GPIB0::3::INSTR') #good\n",
    "\n",
    "def get_current(device):\n",
    "    return float(device.query(':MEASure:curr?').split(',')[1])\n",
    "\n",
    "def get_voltage(device):\n",
    "    return float(device.query(':MEASure:voltage?'))\n",
    "\n",
    "def get_fres(device):\n",
    "    return float(device.query(':MEASure:FRES?'))\n",
    "\n",
    "def set_current(device, value):\n",
    "    device.write(f':sour:current {value}')\n",
    "    device.write(':outp on')\n",
    "\n",
    "def set_current_range(device, value):\n",
    "    device.write(f':sour:curr:range {value}')\n",
    "\n",
    "def get_current_range(device):\n",
    "    return device.query(':sour:curr:rang?')\n",
    "\n",
    "def temp_fres(weerstand):\n",
    "    #lineair:\n",
    "    #source: https://www.sterlingsensors.co.uk/pt100-resistance-table\n",
    "    #weerstand (ohm) -- #temp (K)\n",
    "    #100 -- 273.15 -->(x2,y2)\n",
    "    #18.49 -- 73.15 --> (x1, y1)\n",
    "    (x1, y1) = (18.49, 73.15)\n",
    "    (x2, y2) = (31.32, 103.15)\n",
    "    temp = y1 + (y2-y1)/(x2-x1) * (weerstand - x1)\n",
    "    return temp\n",
    "\n",
    "def get_temp(device):\n",
    "    fpres = get_fres(device)\n",
    "    temp = temp_fres(fpres)\n",
    "    return temp\n",
    "\n",
    "def I_V_scan(I_vals, write_location = None):\n",
    "    max_I = max(I_vals)\n",
    "    if max_I == 0:\n",
    "        raise ValueError\n",
    "    else:\n",
    "        i = 0\n",
    "        while 10**(-i) >= max_I:\n",
    "            i +=1\n",
    "        range_max = 10**(-i+1)\n",
    "    set_current_range(k2400_sample_current, range_max)\n",
    "    I_actuals = []\n",
    "    V_vals = []\n",
    "    Temps = []\n",
    "    for I in I_vals:\n",
    "        set_current(k2400_sample_current, I)\n",
    "        time.sleep(0.5)\n",
    "        get_current(k2400_sample_current)\n",
    "        I_actuals.append(get_current(k2400_sample_current))\n",
    "        V_vals.append(get_voltage(k2000_sample_voltage))\n",
    "        Temps.append(get_temp(k2000_pt))\n",
    "    \n",
    "    if write_location is not None:\n",
    "        file = open(write_location, \"at+\")\n",
    "        file.write(\"I = \")\n",
    "        file.write(str(I_actuals ))\n",
    "        file.write('\\n') \n",
    "        file.write(\"V = \"+str(V_vals) + '\\n')\n",
    "        file.write('T = '+str(Temps) + '\\n')\n",
    "        file.close()\n",
    "    return [I_actuals, V_vals, Temps]\n",
    "\n",
    "\n",
    "def R_T_scan(write_location, current):\n",
    "    Temps = []\n",
    "    Resistances = []\n",
    "    highT = True\n",
    "    set_current(k2400_sample_current, current)\n",
    "    try:\n",
    "        while True:\n",
    "            temp = get_temp(k2000_pt)\n",
    "            if temp < 100:\n",
    "                highT = False\n",
    "            volt = get_voltage(k2000_sample_voltage)\n",
    "            amp = get_current(k2400_sample_current)\n",
    "            print('measured')\n",
    "            Temps.append(temp)\n",
    "            Resistances.append(volt/amp)\n",
    "            if highT:\n",
    "                time.sleep(10)\n",
    "            else:\n",
    "                time.sleep(1)\n",
    "    except KeyboardInterrupt:\n",
    "        file = open(write_location, \"at+\")\n",
    "        file.write('T = ' + str(Temps) + '\\n')\n",
    "        file.write('R = ' + str(Resistances) + '\\n')\n",
    "        \n",
    "\n"
   ]
  },
  {
   "cell_type": "code",
   "execution_count": 43,
   "metadata": {},
   "outputs": [
    {
     "name": "stdout",
     "output_type": "stream",
     "text": [
      "measured\n",
      "measured\n",
      "measured\n",
      "measured\n",
      "measured\n",
      "measured\n",
      "measured\n",
      "measured\n",
      "measured\n",
      "measured\n",
      "measured\n",
      "measured\n",
      "measured\n",
      "measured\n",
      "measured\n",
      "measured\n",
      "measured\n",
      "measured\n",
      "measured\n",
      "measured\n",
      "measured\n",
      "measured\n",
      "measured\n",
      "measured\n",
      "measured\n",
      "measured\n",
      "measured\n",
      "measured\n",
      "measured\n",
      "measured\n",
      "measured\n",
      "measured\n",
      "measured\n",
      "measured\n",
      "measured\n",
      "measured\n",
      "measured\n",
      "measured\n",
      "measured\n",
      "measured\n",
      "measured\n",
      "measured\n",
      "measured\n",
      "measured\n",
      "measured\n",
      "measured\n",
      "measured\n",
      "measured\n",
      "measured\n",
      "measured\n",
      "measured\n",
      "measured\n",
      "measured\n",
      "measured\n",
      "measured\n",
      "measured\n",
      "measured\n",
      "measured\n",
      "measured\n",
      "measured\n",
      "measured\n",
      "measured\n",
      "measured\n"
     ]
    }
   ],
   "source": [
    "R_T_scan('Data/R_T_testing3.txt', .1)"
   ]
  },
  {
   "cell_type": "code",
   "execution_count": 38,
   "metadata": {},
   "outputs": [
    {
     "data": {
      "text/plain": [
       "11"
      ]
     },
     "execution_count": 38,
     "metadata": {},
     "output_type": "execute_result"
    }
   ],
   "source": [
    "k2400_sample_current.write(':outp off')"
   ]
  },
  {
   "cell_type": "code",
   "execution_count": 39,
   "metadata": {},
   "outputs": [],
   "source": [
    "set_current(k2400_sample_current, .5)"
   ]
  },
  {
   "cell_type": "code",
   "execution_count": 13,
   "metadata": {},
   "outputs": [
    {
     "data": {
      "text/plain": [
       "'+2.19640358E+01\\n'"
      ]
     },
     "execution_count": 13,
     "metadata": {},
     "output_type": "execute_result"
    }
   ],
   "source": [
    "k2000_pt.query(':MEASure:FRES?')"
   ]
  },
  {
   "cell_type": "code",
   "execution_count": 20,
   "metadata": {},
   "outputs": [],
   "source": [
    "V = I_V_scan([0.01,0.02,0.03,0.04,0.05,0.06], \"Data/test1.txt\")"
   ]
  },
  {
   "cell_type": "code",
   "execution_count": 22,
   "metadata": {},
   "outputs": [
    {
     "data": {
      "text/plain": [
       "array([0.0001, 0.0002, 0.0003, 0.0004, 0.0005, 0.0006, 0.0007, 0.0008,\n",
       "       0.0009, 0.001 ])"
      ]
     },
     "execution_count": 22,
     "metadata": {},
     "output_type": "execute_result"
    }
   ],
   "source": [
    "namen = [\"Data/test2.txt\", \"Data/test3.txt\", \"Data/test4.txt\", \"Data/test5.txt\"]\n",
    "for i in range(4):\n",
    "    I_range = np.array(range(1,11))*10**(-i-1)\n",
    "    I_V_scan(list(I_range), namen[i])\n",
    "\n",
    "I_range"
   ]
  },
  {
   "cell_type": "code",
   "execution_count": 23,
   "metadata": {},
   "outputs": [
    {
     "data": {
      "text/plain": [
       "11"
      ]
     },
     "execution_count": 23,
     "metadata": {},
     "output_type": "execute_result"
    }
   ],
   "source": [
    "I_range = np.linspace()"
   ]
  }
 ],
 "metadata": {
  "kernelspec": {
   "display_name": "Student_setup_LukasBuild",
   "language": "python",
   "name": "python3"
  },
  "language_info": {
   "codemirror_mode": {
    "name": "ipython",
    "version": 3
   },
   "file_extension": ".py",
   "mimetype": "text/x-python",
   "name": "python",
   "nbconvert_exporter": "python",
   "pygments_lexer": "ipython3",
   "version": "3.9.16"
  }
 },
 "nbformat": 4,
 "nbformat_minor": 2
}
