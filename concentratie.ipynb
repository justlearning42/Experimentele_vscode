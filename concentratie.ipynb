{
 "cells": [
  {
   "cell_type": "code",
   "execution_count": 1,
   "metadata": {},
   "outputs": [],
   "source": [
    "import classes\n",
    "import functies\n",
    "import sympy as sp\n",
    "import numpy as np\n",
    "import matplotlib.pyplot as plt"
   ]
  },
  {
   "cell_type": "code",
   "execution_count": 2,
   "metadata": {},
   "outputs": [
    {
     "name": "stdout",
     "output_type": "stream",
     "text": [
      "[datapunt: Cstock = [6e-05, 5e-07, 'N'], datapunt: Vstock = [0.003, 0.0001, 'U'], datapunt: Vadd = [0.057, 5e-05, 'U']]\n",
      "[datapunt: Cnew = [3.00000000000000e-6, 3.16696544643116e-12, 'Normaal']\n",
      " datapunt: Cnew = [6.00000000000000e-6, 2.14030371676545e-13, 'Normaal']\n",
      " datapunt: Cnew = [9.00000000000000e-6, 4.25429929600634e-12, 'Normaal']\n",
      " datapunt: Cnew = [1.20000000000000e-5, 4.08161732650184e-13, 'Normaal']]\n"
     ]
    }
   ],
   "source": [
    "###bereken de fouten op de verdunningsreeksen\n",
    "Cstock, Vstock, Vadd, Cnew = sp.symbols('Cstock Vstock Vadd Cnew')\n",
    "Cnewvgl = classes.vergelijking(Cstock*Vstock/(Vadd+Vstock), [Cstock, Vstock, Vadd])\n",
    "\n",
    "cstock = functies.vector_to_datapunt([60e-6, 0.5e-6, 'N'], Cstock) #M\n",
    "#verdunning 1\n",
    "vs1 = [3e-3, 0.1e-3, 'U'] #l, gemeten met gegradueerd pipet\n",
    "va1 = [57e-3, 0.05e-3, 'U'] #l, gemeten met buret\n",
    "#verdunning 2\n",
    "vs2 = [10e-3, 0.02e-3, 'U'] #l, gemeten met volumetrisch pipet\n",
    "va2 = [90e-3, 0.1e-3 , 'U'] #l, gemeten met maatkolf\n",
    "#verdunning 3\n",
    "vs3 = [6e-3, 0.1e-3, 'U'] #l, gemeten met gegradueerd pipet\n",
    "va3 = [34e-3, 0.05e-3, 'U'] #l, gemeten met buret\n",
    "#verdunning 4\n",
    "vs4 = [20e-3, 0.02e-3, 'U'] #l, gemeten met volumetrisch pipet\n",
    "va4 = [80e-3, 0.1e-3 , 'U'] #l, gemeten met maatkolf\n",
    "\n",
    "stockvolumes_matrix = [vs1, vs2, vs3, vs4]\n",
    "toegevoegde_volumes_matrix = [va1, va2, va3, va4]\n",
    "\n",
    "stockvolumes_datapunten = functies.matrix_to_datapunten(stockvolumes_matrix, Vstock)\n",
    "toegevoegde_volumes_datapunten = functies.matrix_to_datapunten(toegevoegde_volumes_matrix, Vadd)\n",
    "parameters = [Cstock, Vstock, Vadd]\n",
    "metingen = [[cstock, stockvolumes_datapunten[i],toegevoegde_volumes_datapunten[i]] for i in range(len(stockvolumes_datapunten))]\n",
    "print(metingen[0])\n",
    "cnew = functies.multiple_analysis(Cnewvgl,metingen,Cnew)\n",
    "print(cnew)"
   ]
  },
  {
   "cell_type": "code",
   "execution_count": 3,
   "metadata": {},
   "outputs": [],
   "source": [
    "def lineair(c, param):\n",
    "    epsiloneff = param[0]\n",
    "    return epsiloneff*c\n",
    "def initial_vals(x,y):\n",
    "    return [1]\n",
    "concentraties = np.array([3e-6, 6e-6, 9e-6, 12e-6]) #molair\n",
    "absorbanties = np.array([0.268, 0.557, 0.803, 1.022]) #dimensieloos\n",
    "\n",
    "fouten = 0.02*absorbanties\n",
    "\n",
    "absorbantie_onbekend = [1.690, 0.02*1.690, 'U']"
   ]
  },
  {
   "cell_type": "code",
   "execution_count": 6,
   "metadata": {},
   "outputs": [
    {
     "name": "stdout",
     "output_type": "stream",
     "text": [
      "Raw output\n",
      "  message: Optimization terminated successfully.\n",
      "  success: True\n",
      "   status: 0\n",
      "      fun: 9.376751713983147\n",
      "        x: [ 8.897e+04]\n",
      "      nit: 3\n",
      "      jac: [ 3.576e-07]\n",
      " hess_inv: [[ 3.962e+05]]\n",
      "     nfev: 24\n",
      "     njev: 12\n",
      "[[88087.05582700793, 89857.4694216154]]\n",
      "epsilon_effectief heeft als waarde: 88972 + 885.27 - 885.14 met 68% betrouwbaarheidsinterval: [88087, 89857] \n",
      "De p-waarde voor de hypothese test dat het model zinvol is, wordt gegeven door: 0.024679\n",
      "De gereduceerde chi^2 waarde is: 3.1256\n"
     ]
    },
    {
     "ename": "AttributeError",
     "evalue": "'Symbol' object has no attribute 'variance'",
     "output_type": "error",
     "traceback": [
      "\u001b[1;31m---------------------------------------------------------------------------\u001b[0m",
      "\u001b[1;31mAttributeError\u001b[0m                            Traceback (most recent call last)",
      "Cell \u001b[1;32mIn[6], line 8\u001b[0m\n\u001b[0;32m      5\u001b[0m A, epsilon_eff \u001b[38;5;241m=\u001b[39m sp\u001b[38;5;241m.\u001b[39msymbols(\u001b[38;5;124m'\u001b[39m\u001b[38;5;124mA epsilon_eff\u001b[39m\u001b[38;5;124m'\u001b[39m)\n\u001b[0;32m      6\u001b[0m concentratie_voorschrift \u001b[38;5;241m=\u001b[39m A\u001b[38;5;241m/\u001b[39mepsilon_eff\n\u001b[1;32m----> 8\u001b[0m concentratie_onbekend \u001b[38;5;241m=\u001b[39m \u001b[43mfuncties\u001b[49m\u001b[38;5;241;43m.\u001b[39;49m\u001b[43mdata_analyse\u001b[49m\u001b[43m(\u001b[49m\u001b[43mconcentratie_voorschrift\u001b[49m\u001b[43m,\u001b[49m\u001b[43m \u001b[49m\u001b[43m[\u001b[49m\u001b[43mA\u001b[49m\u001b[43m,\u001b[49m\u001b[43m \u001b[49m\u001b[43mepsilon_eff\u001b[49m\u001b[43m]\u001b[49m\u001b[43m,\u001b[49m\u001b[43m \u001b[49m\u001b[43m[\u001b[49m\u001b[43mabsorbantie_onbekend\u001b[49m\u001b[43m,\u001b[49m\u001b[43m \u001b[49m\u001b[43mepsilon_fitwaarde\u001b[49m\u001b[43m]\u001b[49m\u001b[43m)\u001b[49m\n\u001b[0;32m      9\u001b[0m \u001b[38;5;28mprint\u001b[39m(concentratie_onbekend)\n",
      "File \u001b[1;32mc:\\Users\\samfa\\Python\\Experimentele_vscode\\functies.py:32\u001b[0m, in \u001b[0;36mdata_analyse\u001b[1;34m(equation, param_values, eval_name)\u001b[0m\n\u001b[0;32m     30\u001b[0m vgl \u001b[38;5;241m=\u001b[39m equation\n\u001b[0;32m     31\u001b[0m \u001b[38;5;28;01mfor\u001b[39;00m param_value \u001b[38;5;129;01min\u001b[39;00m param_values:\n\u001b[1;32m---> 32\u001b[0m     fouten\u001b[38;5;241m.\u001b[39mappend(\u001b[43mparam_value\u001b[49m\u001b[38;5;241;43m.\u001b[39;49m\u001b[43mvariance\u001b[49m)\n\u001b[0;32m     33\u001b[0m     parameters\u001b[38;5;241m.\u001b[39mappend(param_value\u001b[38;5;241m.\u001b[39mget_naam())\n\u001b[0;32m     34\u001b[0m     substitutie\u001b[38;5;241m.\u001b[39mappend((param_value\u001b[38;5;241m.\u001b[39mget_naam(), param_value\u001b[38;5;241m.\u001b[39mget_val()))\n",
      "\u001b[1;31mAttributeError\u001b[0m: 'Symbol' object has no attribute 'variance'"
     ]
    }
   ],
   "source": [
    "#fit het boeltje\n",
    "parameter = ['epsilon_effectief']\n",
    "epsilon_fitwaarde = functies.fit(parameter, lineair, initial_vals, concentraties, absorbanties, y_err = fouten)[0]\n",
    "\n",
    "A, epsilon_eff = sp.symbols('A epsilon_eff')\n",
    "concentratie_voorschrift = classes.vergelijking(A/epsilon_eff, [A, epsilon_eff])\n",
    "absorbantie_onbekend = [1.690, 0.02*1.690, 'U']\n",
    "absorbantie_onbekend = functies.vector_to_datapunt(absorbantie_onbekend, A)\n",
    "epsilon_fitwaarde = functies.vector_to_datapunt(outp[0], epsilon_eff)\n",
    "\n",
    "concentratie_onbekend = functies.data_analyse(concentratie_voorschrift, [A, epsilon_eff], [absorbantie_onbekend, epsilon_fitwaarde])\n",
    "print(concentratie_onbekend)\n"
   ]
  },
  {
   "cell_type": "code",
   "execution_count": 5,
   "metadata": {},
   "outputs": [
    {
     "ename": "NameError",
     "evalue": "name 'plt' is not defined",
     "output_type": "error",
     "traceback": [
      "\u001b[1;31m---------------------------------------------------------------------------\u001b[0m",
      "\u001b[1;31mNameError\u001b[0m                                 Traceback (most recent call last)",
      "Cell \u001b[1;32mIn[5], line 1\u001b[0m\n\u001b[1;32m----> 1\u001b[0m fig, ax \u001b[38;5;241m=\u001b[39m \u001b[43mplt\u001b[49m\u001b[38;5;241m.\u001b[39msubplots(\u001b[38;5;241m1\u001b[39m,\u001b[38;5;241m1\u001b[39m, figsize \u001b[38;5;241m=\u001b[39m (\u001b[38;5;241m8\u001b[39m,\u001b[38;5;241m8\u001b[39m))\n\u001b[0;32m      3\u001b[0m \u001b[38;5;66;03m#de gekende punten en de fit\u001b[39;00m\n\u001b[0;32m      4\u001b[0m ax\u001b[38;5;241m.\u001b[39merrorbar(concentraties, absorbanties, yerr \u001b[38;5;241m=\u001b[39m fouten, linestyle \u001b[38;5;241m=\u001b[39m \u001b[38;5;124m'\u001b[39m\u001b[38;5;124m \u001b[39m\u001b[38;5;124m'\u001b[39m, color \u001b[38;5;241m=\u001b[39m \u001b[38;5;124m'\u001b[39m\u001b[38;5;124mblack\u001b[39m\u001b[38;5;124m'\u001b[39m, label \u001b[38;5;241m=\u001b[39m \u001b[38;5;124m'\u001b[39m\u001b[38;5;124mgemeten\u001b[39m\u001b[38;5;124m'\u001b[39m)\n",
      "\u001b[1;31mNameError\u001b[0m: name 'plt' is not defined"
     ]
    }
   ],
   "source": [
    "fig, ax = plt.subplots(1,1, figsize = (8,8))\n",
    "\n",
    "#de gekende punten en de fit\n",
    "ax.errorbar(concentraties, absorbanties, yerr = y_fouten, linestyle = ' ', color = 'black', label = 'gemeten')\n",
    "concentratie_linspace = np.linspace(0,20e-6)\n",
    "ax.plot(concentratie_linspace, lineair(concentratie_linspace, [epsilon_fitwaarde.get_val()]), label = 'model')\n",
    "\n",
    "#het onbekende punt\n",
    "ax.errorbar(concentratie_onbekend.get_val(),absorbantie_onbekend.get_val(), yerr = absorbantie_onbekend.get_fout(), xerr = concentratie_onbekend.get_fout(), label = 'onbekende concentratie')\n",
    "\n",
    "\n",
    "ax.set_xlabel('concentratie [M]')\n",
    "ax.set_ylabel('absorbantie [dimensieloos]')\n",
    "ax.set_title('De concentraties versus de absorbanties van erythrocine-B')\n",
    "ax.legend()\n",
    "plt.tight_layout();plt.show()"
   ]
  },
  {
   "cell_type": "code",
   "execution_count": null,
   "metadata": {},
   "outputs": [],
   "source": []
  }
 ],
 "metadata": {
  "kernelspec": {
   "display_name": "base",
   "language": "python",
   "name": "python3"
  },
  "language_info": {
   "codemirror_mode": {
    "name": "ipython",
    "version": 3
   },
   "file_extension": ".py",
   "mimetype": "text/x-python",
   "name": "python",
   "nbconvert_exporter": "python",
   "pygments_lexer": "ipython3",
   "version": "3.11.5"
  }
 },
 "nbformat": 4,
 "nbformat_minor": 2
}
