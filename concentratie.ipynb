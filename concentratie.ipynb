{
 "cells": [
  {
   "cell_type": "code",
   "execution_count": 1,
   "metadata": {},
   "outputs": [
    {
     "name": "stdout",
     "output_type": "stream",
     "text": [
      "initialised\n"
     ]
    }
   ],
   "source": [
    "%run \"C:/Users/User/Documents/Cas/Unif/2e can/experimentele/data_analyse.ipynb\"\n",
    "import classes\n",
    "import functies\n",
    "import sympy as sp\n",
    "from matplotlib import pyplot as plt\n",
    "import numpy as np"
   ]
  },
  {
   "cell_type": "code",
   "execution_count": 2,
   "metadata": {},
   "outputs": [
    {
     "name": "stdout",
     "output_type": "stream",
     "text": [
      "##############################oude code############################################# (die 100% werkt)\n"
     ]
    },
    {
     "data": {
      "text/latex": [
       "$\\displaystyle \\frac{Cstock Vstock}{Vadd + Vstock}$"
      ],
      "text/plain": [
       "Cstock*Vstock/(Vadd + Vstock)"
      ]
     },
     "metadata": {},
     "output_type": "display_data"
    },
    {
     "name": "stdout",
     "output_type": "stream",
     "text": [
      "[[3.00000000000000e-6 3.71160904011544e-8]\n",
      " [6.00000000000000e-6 5.01270386119108e-8]\n",
      " [9.00000000000000e-6 8.36076215126348e-8]\n",
      " [1.20000000000000e-5 1.00098351634780e-7]]\n",
      "########################met sam zijn code#######################################\"\n",
      "[datapunt: Cnew = [3.00000000000000e-6, 6.02944165463658e-8, 'Normaal']\n",
      " datapunt: Cnew = [6.00000000000000e-6, 5.05062372385827e-8, 'Normaal']\n",
      " datapunt: Cnew = [9.00000000000000e-6, 1.05289778706197e-7, 'Normaal']\n",
      " datapunt: Cnew = [1.20000000000000e-5, 1.00392828429126e-7, 'Normaal']]\n",
      "\n",
      "########################latex-output (sam zijn code)##############################\n",
      "\n",
      "$volume stockoplossing = (30.0 \\pm 1.0)\\cdot 10^{-4}$\n",
      "$toegevoegde volumes = (5700.0 \\pm 5.0)\\cdot 10^{-5}$\n",
      "$Cnew = (300.000000000000 \\pm 6.00000000000000)\\cdot 10^{-8}$\n",
      "\n",
      "\n",
      "$volume stockoplossing = (1000.0 \\pm 2.0)\\cdot 10^{-5}$\n",
      "$toegevoegde volumes = (900.0 \\pm 1.0)\\cdot 10^{-4}$\n",
      "$Cnew = (600.000000000000 \\pm 5.1)\\cdot 10^{-8}$\n",
      "\n",
      "\n",
      "$volume stockoplossing = (60.0 \\pm 1.0)\\cdot 10^{-4}$\n",
      "$toegevoegde volumes = (3400.0 \\pm 5.0)\\cdot 10^{-5}$\n",
      "$Cnew = (90.0000000000000 \\pm 1.1)\\cdot 10^{-7}$\n",
      "\n",
      "\n",
      "$volume stockoplossing = (2000.0 \\pm 2.0)\\cdot 10^{-5}$\n",
      "$toegevoegde volumes = (800.0 \\pm 1.0)\\cdot 10^{-4}$\n",
      "$Cnew = (120.000000000000 \\pm 1.00000000000000)\\cdot 10^{-7}$\n",
      "\n",
      "\n"
     ]
    }
   ],
   "source": [
    "###bereken de fouten op de verdunningsreeksen\n",
    "Cstock, Vstock, Vadd, Cnew = sp.symbols('Cstock Vstock Vadd Cnew')\n",
    "Cnewvgl = classes.vergelijking(Cstock*Vstock/(Vadd+Vstock), [Cstock, Vstock, Vadd])\n",
    "Cnewvglsympy = Cstock*Vstock/(Vadd+Vstock)\n",
    "cstock = functies.vector_to_datapunt([60e-6, 0.5e-6, 'N'], Cstock) #M\n",
    "#verdunning 1\n",
    "vs1 = [3e-3, 0.1e-3, 'U'] #l, gemeten met gegradueerd pipet\n",
    "va1 = [57e-3, 0.05e-3, 'U'] #l, gemeten met buret\n",
    "#verdunning 2\n",
    "vs2 = [10e-3, 0.02e-3, 'U'] #l, gemeten met volumetrisch pipet\n",
    "va2 = [90e-3, 0.1e-3 , 'U'] #l, gemeten met maatkolf\n",
    "#verdunning 3\n",
    "vs3 = [6e-3, 0.1e-3, 'U'] #l, gemeten met gegradueerd pipet\n",
    "va3 = [34e-3, 0.05e-3, 'U'] #l, gemeten met buret\n",
    "#verdunning 4\n",
    "vs4 = [20e-3, 0.02e-3, 'U'] #l, gemeten met volumetrisch pipet\n",
    "va4 = [80e-3, 0.1e-3 , 'U'] #l, gemeten met maatkolf\n",
    "print('##############################oude code############################################# (die 100% werkt)')\n",
    "parameters = [Cstock, Vstock, Vadd]\n",
    "cs = [60e-6, 0.5e-6, 'N']\n",
    "stockconcentraties_matrix = [cs,cs,cs,cs]\n",
    "stockvolumes_matrix = [vs1, vs2, vs3, vs4]\n",
    "toegevoegde_volumes_matrix = [va1, va2, va3, va4]\n",
    "\n",
    "gegevensmatrix = [[cs, vs1, va1],[cs, vs2, va2],[cs, vs3, va3],[cs, vs4, va4],]\n",
    "                  \n",
    "\n",
    "display(Cnewvglsympy)\n",
    "\n",
    "outp = multiple_analysis(Cnewvglsympy, parameters, gegevensmatrix)\n",
    "print(outp)\n",
    "for meting in outp:\n",
    "    #omzetten naar µM\n",
    "    meting[0] *= 10**6\n",
    "    meting[1] *= 10**6\n",
    "    #latex_print_meting(meting)\n",
    "\n",
    "print('########################met sam zijn code#######################################\"')\n",
    "\n",
    "\n",
    "stockvolumes_datapunten = functies.matrix_to_datapunten(stockvolumes_matrix, Vstock)\n",
    "toegevoegde_volumes_datapunten = functies.matrix_to_datapunten(toegevoegde_volumes_matrix, Vadd)\n",
    "parameters = [Cstock, Vstock, Vadd]\n",
    "metingen = [[cstock, stockvolumes_datapunten[i],toegevoegde_volumes_datapunten[i]] for i in range(len(stockvolumes_datapunten))]\n",
    "\n",
    "cnew = functies.multiple_analysis(Cnewvgl,metingen,Cnew)\n",
    "\n",
    "print(cnew)\n",
    "print('\\n########################latex-output (sam zijn code)##############################\\n')\n",
    "for indx in range(len(cnew)):\n",
    "    data = cnew[indx]\n",
    "    functies.latex_print_meting(stockvolumes_matrix[indx],'volume stockoplossing')\n",
    "    functies.latex_print_meting(toegevoegde_volumes_matrix[indx],'toegevoegde volumes')\n",
    "    functies.latex_print_meting(data)\n",
    "    print('\\n')"
   ]
  },
  {
   "cell_type": "code",
   "execution_count": 4,
   "metadata": {},
   "outputs": [],
   "source": [
    "import winsound\n",
    "winsound.PlaySound(\"SystemExit\", winsound.SND_ALIAS)"
   ]
  },
  {
   "cell_type": "code",
   "execution_count": 8,
   "metadata": {},
   "outputs": [
    {
     "name": "stdout",
     "output_type": "stream",
     "text": [
      "Help on function fit_2D in module functies:\n",
      "\n",
      "fit_2D(parameters, model, initial_vals, x_val, y_val, x_variance, y_variance, grootteorde=1, x_as_titel='X-as', y_as_titel='Y-as', titel='Fit', figure_name=None, size=None, error_method='Old', savefig=False, detailed_logs=False)\n",
      "    grootteorde geeft een schatting van de grootteorde van de parameters\n",
      "\n",
      "[0.268 0.557 0.803 1.022]\n",
      "[3.0e-06 6.0e-06 9.0e-06 1.2e-05]\n",
      "[3.63541667e-15 2.55088000e-15 1.10859375e-14 1.00787200e-14]\n",
      "[0.00044667 0.00092833 0.00133833 0.00170333]\n",
      "#########################################\n"
     ]
    }
   ],
   "source": [
    "def lineair(c, param):\n",
    "    epsiloneff = param[0]\n",
    "    return epsiloneff*c\n",
    "def initial_vals(x,y):\n",
    "    return [1.06e5/1.2]\n",
    "concentraties = np.array([cnew[i].get_val() for i in range(len(cnew))],dtype = float)\n",
    "x_variantie = np.array([cnew[i].get_variance() for i in range(len(cnew))],dtype = float)\n",
    "absorbanties = np.array([0.268, 0.557, 0.803, 1.022],dtype = float) #dimensieloos\n",
    "parameter = ['epsilon_effectief']\n",
    "y_fouten = 0.02*absorbanties\n",
    "y_variantie = y_fouten/12\n",
    "\n",
    "help(functies.fit_2D)\n",
    "print(absorbanties)\n",
    "print(concentraties)\n",
    "print(x_variantie)\n",
    "print(y_variantie)\n",
    "print('#########################################')\n",
    "#outp = functies.fit_2D(parameter, lineair, initial_vals, concentraties, absorbanties, x_variance=x_variantie, y_variance = y_variantie, x_as_titel = 'concentraties [M]', y_as_titel = 'absorbanties',\n",
    "#                titel = 'Wet van Lambert-Beer voor erythrocine-B',savefig = True, detailed_logs=True)"
   ]
  },
  {
   "cell_type": "code",
   "execution_count": 10,
   "metadata": {},
   "outputs": [
    {
     "name": "stdout",
     "output_type": "stream",
     "text": [
      "Raw output\n",
      "  message: Optimization terminated successfully.\n",
      "  success: True\n",
      "   status: 0\n",
      "      fun: 9.376751713983147\n",
      "        x: [ 8.897e+04]\n",
      "      nit: 3\n",
      "      jac: [ 3.576e-07]\n",
      " hess_inv: [[ 3.962e+05]]\n",
      "     nfev: 24\n",
      "     njev: 12\n",
      "[[88087.05582700793, 89857.4694216154]]\n",
      "epsilon_effectief heeft als waarde: 88972 + 885.27 - 885.14 met 68% betrouwbaarheidsinterval: [88087, 89857] \n",
      "De p-waarde voor de hypothese test dat het model zinvol is, wordt gegeven door: 0.024679\n",
      "De gereduceerde chi^2 waarde is: 3.1256\n"
     ]
    },
    {
     "ename": "ValueError",
     "evalue": "not enough values to unpack (expected 3, got 2)",
     "output_type": "error",
     "traceback": [
      "\u001b[1;31m---------------------------------------------------------------------------\u001b[0m",
      "\u001b[1;31mValueError\u001b[0m                                Traceback (most recent call last)",
      "Cell \u001b[1;32mIn[10], line 9\u001b[0m\n\u001b[0;32m      7\u001b[0m absorbantie_onbekend \u001b[38;5;241m=\u001b[39m [\u001b[38;5;241m1.690\u001b[39m, \u001b[38;5;241m0.02\u001b[39m\u001b[38;5;241m*\u001b[39m\u001b[38;5;241m1.690\u001b[39m, \u001b[38;5;124m'\u001b[39m\u001b[38;5;124mU\u001b[39m\u001b[38;5;124m'\u001b[39m]\n\u001b[0;32m      8\u001b[0m absorbantie_onbekend \u001b[38;5;241m=\u001b[39m functies\u001b[38;5;241m.\u001b[39mvector_to_datapunt(absorbantie_onbekend, A)\n\u001b[1;32m----> 9\u001b[0m epsilon_fitwaarde \u001b[38;5;241m=\u001b[39m functies\u001b[38;5;241m.\u001b[39mvector_to_datapunt(outp[\u001b[38;5;241m0\u001b[39m], epsilon_eff)\n\u001b[0;32m     11\u001b[0m concentratie_onbekend \u001b[38;5;241m=\u001b[39m functies\u001b[38;5;241m.\u001b[39mdata_analyse(concentratie_voorschrift, [absorbantie_onbekend, epsilon_fitwaarde], sp\u001b[38;5;241m.\u001b[39mSymbol(\u001b[38;5;124m'\u001b[39m\u001b[38;5;124mC_onbekend\u001b[39m\u001b[38;5;124m'\u001b[39m))\n\u001b[0;32m     12\u001b[0m \u001b[38;5;28mprint\u001b[39m(concentratie_onbekend)\n",
      "File \u001b[1;32mc:\\Users\\User\\Documents\\Cas\\Unif\\2e can\\experimentele\\github\\Experimentele_vscode\\functies.py:783\u001b[0m, in \u001b[0;36mvector_to_datapunt\u001b[1;34m(vector, variabele)\u001b[0m\n\u001b[0;32m    781\u001b[0m \u001b[38;5;28;01mif\u001b[39;00m \u001b[38;5;28mtype\u001b[39m(variabele) \u001b[38;5;241m!=\u001b[39m \u001b[38;5;28mtype\u001b[39m(alfa):\n\u001b[0;32m    782\u001b[0m         \u001b[38;5;28;01mraise\u001b[39;00m \u001b[38;5;167;01mTypeError\u001b[39;00m(\u001b[38;5;124m\"\u001b[39m\u001b[38;5;124mvariabele moet een sp.symbol zijn\u001b[39m\u001b[38;5;124m\"\u001b[39m)\n\u001b[1;32m--> 783\u001b[0m waarde, fout, soort_fout \u001b[38;5;241m=\u001b[39m vector\n\u001b[0;32m    784\u001b[0m \u001b[38;5;28;01mreturn\u001b[39;00m classes\u001b[38;5;241m.\u001b[39mdatapunt(waarde, fout, variabele, soort_fout)\n",
      "\u001b[1;31mValueError\u001b[0m: not enough values to unpack (expected 3, got 2)"
     ]
    }
   ],
   "source": [
    "#fit het boeltje\n",
    "parameter = ['epsilon_effectief']\n",
    "epsilon_fitwaarde = functies.fit(parameter, lineair, initial_vals, concentraties, absorbanties, y_err = y_fouten)[0]\n",
    "\n",
    "A, epsilon_eff = sp.symbols('A epsilon_eff')\n",
    "concentratie_voorschrift = classes.vergelijking(A/epsilon_eff, [A, epsilon_eff])\n",
    "absorbantie_onbekend = [1.690, 0.02*1.690, 'U']\n",
    "absorbantie_onbekend = functies.vector_to_datapunt(absorbantie_onbekend, A)\n",
    "epsilon_fitwaarde = functies.vector_to_datapunt(outp[0], epsilon_eff)\n",
    "\n",
    "concentratie_onbekend = functies.data_analyse(concentratie_voorschrift, [absorbantie_onbekend, epsilon_fitwaarde], sp.Symbol('C_onbekend'))\n",
    "print(concentratie_onbekend)\n"
   ]
  },
  {
   "cell_type": "code",
   "execution_count": 1,
   "metadata": {},
   "outputs": [
    {
     "ename": "NameError",
     "evalue": "name 'plt' is not defined",
     "output_type": "error",
     "traceback": [
      "\u001b[1;31m---------------------------------------------------------------------------\u001b[0m",
      "\u001b[1;31mNameError\u001b[0m                                 Traceback (most recent call last)",
      "Cell \u001b[1;32mIn[1], line 1\u001b[0m\n\u001b[1;32m----> 1\u001b[0m fig, ax \u001b[38;5;241m=\u001b[39m plt\u001b[38;5;241m.\u001b[39msubplots(\u001b[38;5;241m1\u001b[39m,\u001b[38;5;241m1\u001b[39m, figsize \u001b[38;5;241m=\u001b[39m (\u001b[38;5;241m8\u001b[39m,\u001b[38;5;241m8\u001b[39m))\n\u001b[0;32m      3\u001b[0m \u001b[38;5;66;03m#de gekende punten en de fit\u001b[39;00m\n\u001b[0;32m      4\u001b[0m ax\u001b[38;5;241m.\u001b[39merrorbar(concentraties, absorbanties, yerr \u001b[38;5;241m=\u001b[39m y_fouten, linestyle \u001b[38;5;241m=\u001b[39m \u001b[38;5;124m'\u001b[39m\u001b[38;5;124m \u001b[39m\u001b[38;5;124m'\u001b[39m, color \u001b[38;5;241m=\u001b[39m \u001b[38;5;124m'\u001b[39m\u001b[38;5;124mblack\u001b[39m\u001b[38;5;124m'\u001b[39m, label \u001b[38;5;241m=\u001b[39m \u001b[38;5;124m'\u001b[39m\u001b[38;5;124mgemeten\u001b[39m\u001b[38;5;124m'\u001b[39m)\n",
      "\u001b[1;31mNameError\u001b[0m: name 'plt' is not defined"
     ]
    }
   ],
   "source": [
    "fig, ax = plt.subplots(1,1, figsize = (8,8))\n",
    "\n",
    "#de gekende punten en de fit\n",
    "ax.errorbar(concentraties, absorbanties, yerr = y_fouten, linestyle = ' ', color = 'black', label = 'gemeten')\n",
    "concentratie_linspace = np.linspace(0,20e-6)\n",
    "ax.plot(concentratie_linspace, lineair(concentratie_linspace, [epsilon_fitwaarde.get_val()]), label = 'model')\n",
    "\n",
    "#het onbekende punt\n",
    "ax.errorbar(concentratie_onbekend.get_val(),absorbantie_onbekend.get_val(), yerr = absorbantie_onbekend.get_fout(), xerr = concentratie_onbekend.get_fout(), label = 'onbekende concentratie')\n",
    "\n",
    "\n",
    "ax.set_xlabel('concentratie [M]')\n",
    "ax.set_ylabel('absorbantie [dimensieloos]')\n",
    "ax.set_title('De concentraties versus de absorbanties van erythrocine-B')\n",
    "ax.legend()\n",
    "plt.tight_layout();plt.show()"
   ]
  }
 ],
 "metadata": {
  "kernelspec": {
   "display_name": "base",
   "language": "python",
   "name": "python3"
  },
  "language_info": {
   "codemirror_mode": {
    "name": "ipython",
    "version": 3
   },
   "file_extension": ".py",
   "mimetype": "text/x-python",
   "name": "python",
   "nbconvert_exporter": "python",
   "pygments_lexer": "ipython3",
   "version": "3.11.5"
  }
 },
 "nbformat": 4,
 "nbformat_minor": 2
}
